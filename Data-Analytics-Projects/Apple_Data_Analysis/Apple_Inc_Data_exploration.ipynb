{
 "cells": [
  {
   "cell_type": "markdown",
   "metadata": {
    "id": "uSZwfdxiZ8Bx"
   },
   "source": [
    "# Analysis of Apple Inc"
   ]
  },
  {
   "cell_type": "markdown",
   "metadata": {
    "id": "ezhG3316V2X7"
   },
   "source": [
    "\"Apple Inc. is an American multinational technology company specializing in consumer electronics, software and online services headquartered in Cupertino, California, United States\" - Wikipedia\n",
    "\n",
    "\n",
    "I will be analysing Apples finanical results from the 2018 financial year to the 2021 finacial year using yfinance.\n",
    "\n",
    "Any information included herin does not constitute investment or financial advise.\n"
   ]
  },
  {
   "cell_type": "markdown",
   "metadata": {
    "id": "ygUbWGO8oLJp"
   },
   "source": [
    "## i. Data Wrangling"
   ]
  },
  {
   "cell_type": "markdown",
   "metadata": {
    "id": "3-v2P2UMoVAA"
   },
   "source": [
    "### 1.Gathering Data"
   ]
  },
  {
   "cell_type": "code",
   "execution_count": 59,
   "metadata": {
    "id": "dlsy1SJHaVP6"
   },
   "outputs": [],
   "source": [
    "#importing libraries\n",
    "import pandas as pd\n",
    "import yfinance as yf\n",
    "import numpy as np\n",
    "import matplotlib.pyplot as plt\n",
    "import seaborn as sns\n",
    "sns.set_style(\"dark\")\n"
   ]
  },
  {
   "cell_type": "code",
   "execution_count": 2,
   "metadata": {
    "id": "rqfv_S9wa_bD"
   },
   "outputs": [],
   "source": [
    "#assigning Apple ticker to aapl variable\n",
    "aapl = yf.Ticker(\"AAPL\") "
   ]
  },
  {
   "cell_type": "code",
   "execution_count": 3,
   "metadata": {
    "colab": {
     "base_uri": "https://localhost:8080/"
    },
    "id": "A-hJtWpV2vRS",
    "outputId": "76ce6f16-f3a2-4e39-f5d1-435f6ee1de48"
   },
   "outputs": [
    {
     "name": "stdout",
     "output_type": "stream",
     "text": [
      "[*********************100%***********************]  1 of 1 completed\n"
     ]
    }
   ],
   "source": [
    "#getting stock data from August 2010 to September 2022\n",
    "data = yf.download(\"AAPL\", start=\"2010-08-01\", end=\"2022-09-30\")"
   ]
  },
  {
   "cell_type": "code",
   "execution_count": 4,
   "metadata": {
    "id": "-x5IvnOSbFKH"
   },
   "outputs": [],
   "source": [
    "#assigning income statement to financials variable\n",
    "financials = aapl.financials "
   ]
  },
  {
   "cell_type": "code",
   "execution_count": 5,
   "metadata": {
    "id": "wRSJJbPo57OA"
   },
   "outputs": [],
   "source": [
    "balance_sheet = aapl.balance_sheet"
   ]
  },
  {
   "cell_type": "markdown",
   "metadata": {
    "id": "CgJs9N0Qoh-r"
   },
   "source": [
    "###  2.Assessing Data"
   ]
  },
  {
   "cell_type": "code",
   "execution_count": 6,
   "metadata": {
    "colab": {
     "base_uri": "https://localhost:8080/",
     "height": 143
    },
    "id": "u4avdzfW2-ua",
    "outputId": "df71af0f-0cf2-4322-f3e3-f848d8565fa9"
   },
   "outputs": [
    {
     "data": {
      "text/html": [
       "<div>\n",
       "<style scoped>\n",
       "    .dataframe tbody tr th:only-of-type {\n",
       "        vertical-align: middle;\n",
       "    }\n",
       "\n",
       "    .dataframe tbody tr th {\n",
       "        vertical-align: top;\n",
       "    }\n",
       "\n",
       "    .dataframe thead th {\n",
       "        text-align: right;\n",
       "    }\n",
       "</style>\n",
       "<table border=\"1\" class=\"dataframe\">\n",
       "  <thead>\n",
       "    <tr style=\"text-align: right;\">\n",
       "      <th></th>\n",
       "      <th>Open</th>\n",
       "      <th>High</th>\n",
       "      <th>Low</th>\n",
       "      <th>Close</th>\n",
       "      <th>Adj Close</th>\n",
       "      <th>Volume</th>\n",
       "    </tr>\n",
       "    <tr>\n",
       "      <th>Date</th>\n",
       "      <th></th>\n",
       "      <th></th>\n",
       "      <th></th>\n",
       "      <th></th>\n",
       "      <th></th>\n",
       "      <th></th>\n",
       "    </tr>\n",
       "  </thead>\n",
       "  <tbody>\n",
       "    <tr>\n",
       "      <th>2010-08-02</th>\n",
       "      <td>9.301429</td>\n",
       "      <td>9.378214</td>\n",
       "      <td>9.272143</td>\n",
       "      <td>9.351786</td>\n",
       "      <td>7.984856</td>\n",
       "      <td>428055600</td>\n",
       "    </tr>\n",
       "    <tr>\n",
       "      <th>2010-08-03</th>\n",
       "      <td>9.321786</td>\n",
       "      <td>9.402143</td>\n",
       "      <td>9.265000</td>\n",
       "      <td>9.354643</td>\n",
       "      <td>7.987291</td>\n",
       "      <td>417653600</td>\n",
       "    </tr>\n",
       "  </tbody>\n",
       "</table>\n",
       "</div>"
      ],
      "text/plain": [
       "                Open      High       Low     Close  Adj Close     Volume\n",
       "Date                                                                    \n",
       "2010-08-02  9.301429  9.378214  9.272143  9.351786   7.984856  428055600\n",
       "2010-08-03  9.321786  9.402143  9.265000  9.354643   7.987291  417653600"
      ]
     },
     "execution_count": 6,
     "metadata": {},
     "output_type": "execute_result"
    }
   ],
   "source": [
    "#inspecting stock data for Apple\n",
    "data.head(2)"
   ]
  },
  {
   "cell_type": "code",
   "execution_count": 7,
   "metadata": {
    "colab": {
     "base_uri": "https://localhost:8080/",
     "height": 112
    },
    "id": "QZiestffZslC",
    "outputId": "11ec8916-b4a2-43dd-9c1f-e6c681c21cca"
   },
   "outputs": [
    {
     "data": {
      "text/html": [
       "<div>\n",
       "<style scoped>\n",
       "    .dataframe tbody tr th:only-of-type {\n",
       "        vertical-align: middle;\n",
       "    }\n",
       "\n",
       "    .dataframe tbody tr th {\n",
       "        vertical-align: top;\n",
       "    }\n",
       "\n",
       "    .dataframe thead th {\n",
       "        text-align: right;\n",
       "    }\n",
       "</style>\n",
       "<table border=\"1\" class=\"dataframe\">\n",
       "  <thead>\n",
       "    <tr style=\"text-align: right;\">\n",
       "      <th></th>\n",
       "      <th>2021-09-25</th>\n",
       "      <th>2020-09-26</th>\n",
       "      <th>2019-09-28</th>\n",
       "      <th>2018-09-29</th>\n",
       "    </tr>\n",
       "  </thead>\n",
       "  <tbody>\n",
       "    <tr>\n",
       "      <th>Research Development</th>\n",
       "      <td>21914000000.0</td>\n",
       "      <td>18752000000.0</td>\n",
       "      <td>16217000000.0</td>\n",
       "      <td>14236000000.0</td>\n",
       "    </tr>\n",
       "    <tr>\n",
       "      <th>Effect Of Accounting Charges</th>\n",
       "      <td>None</td>\n",
       "      <td>None</td>\n",
       "      <td>None</td>\n",
       "      <td>None</td>\n",
       "    </tr>\n",
       "  </tbody>\n",
       "</table>\n",
       "</div>"
      ],
      "text/plain": [
       "                                 2021-09-25     2020-09-26     2019-09-28  \\\n",
       "Research Development          21914000000.0  18752000000.0  16217000000.0   \n",
       "Effect Of Accounting Charges           None           None           None   \n",
       "\n",
       "                                 2018-09-29  \n",
       "Research Development          14236000000.0  \n",
       "Effect Of Accounting Charges           None  "
      ]
     },
     "execution_count": 7,
     "metadata": {},
     "output_type": "execute_result"
    }
   ],
   "source": [
    "#inpecting dataset\n",
    "financials.head(2)"
   ]
  },
  {
   "cell_type": "code",
   "execution_count": 8,
   "metadata": {
    "colab": {
     "base_uri": "https://localhost:8080/",
     "height": 112
    },
    "id": "yMKKc75Y6Izo",
    "outputId": "9e68bdd6-94e8-4b67-d859-dc7302f0b81d"
   },
   "outputs": [
    {
     "data": {
      "text/html": [
       "<div>\n",
       "<style scoped>\n",
       "    .dataframe tbody tr th:only-of-type {\n",
       "        vertical-align: middle;\n",
       "    }\n",
       "\n",
       "    .dataframe tbody tr th {\n",
       "        vertical-align: top;\n",
       "    }\n",
       "\n",
       "    .dataframe thead th {\n",
       "        text-align: right;\n",
       "    }\n",
       "</style>\n",
       "<table border=\"1\" class=\"dataframe\">\n",
       "  <thead>\n",
       "    <tr style=\"text-align: right;\">\n",
       "      <th></th>\n",
       "      <th>2021-09-25</th>\n",
       "      <th>2020-09-26</th>\n",
       "      <th>2019-09-28</th>\n",
       "      <th>2018-09-29</th>\n",
       "    </tr>\n",
       "  </thead>\n",
       "  <tbody>\n",
       "    <tr>\n",
       "      <th>Total Liab</th>\n",
       "      <td>2.879120e+11</td>\n",
       "      <td>2.585490e+11</td>\n",
       "      <td>2.480280e+11</td>\n",
       "      <td>2.585780e+11</td>\n",
       "    </tr>\n",
       "    <tr>\n",
       "      <th>Total Stockholder Equity</th>\n",
       "      <td>6.309000e+10</td>\n",
       "      <td>6.533900e+10</td>\n",
       "      <td>9.048800e+10</td>\n",
       "      <td>1.071470e+11</td>\n",
       "    </tr>\n",
       "  </tbody>\n",
       "</table>\n",
       "</div>"
      ],
      "text/plain": [
       "                            2021-09-25    2020-09-26    2019-09-28  \\\n",
       "Total Liab                2.879120e+11  2.585490e+11  2.480280e+11   \n",
       "Total Stockholder Equity  6.309000e+10  6.533900e+10  9.048800e+10   \n",
       "\n",
       "                            2018-09-29  \n",
       "Total Liab                2.585780e+11  \n",
       "Total Stockholder Equity  1.071470e+11  "
      ]
     },
     "execution_count": 8,
     "metadata": {},
     "output_type": "execute_result"
    }
   ],
   "source": [
    "#inspecting balance sheet dataset\n",
    "balance_sheet.head(2)"
   ]
  },
  {
   "cell_type": "code",
   "execution_count": 9,
   "metadata": {
    "id": "HR6W6dH1-lV3"
   },
   "outputs": [],
   "source": [
    "cashflow = aapl.cashflow"
   ]
  },
  {
   "cell_type": "code",
   "execution_count": 10,
   "metadata": {
    "colab": {
     "base_uri": "https://localhost:8080/",
     "height": 112
    },
    "id": "2W1FZP6z-tba",
    "outputId": "bdcf60f9-7eaa-4afd-fdfd-848987758eaf"
   },
   "outputs": [
    {
     "data": {
      "text/html": [
       "<div>\n",
       "<style scoped>\n",
       "    .dataframe tbody tr th:only-of-type {\n",
       "        vertical-align: middle;\n",
       "    }\n",
       "\n",
       "    .dataframe tbody tr th {\n",
       "        vertical-align: top;\n",
       "    }\n",
       "\n",
       "    .dataframe thead th {\n",
       "        text-align: right;\n",
       "    }\n",
       "</style>\n",
       "<table border=\"1\" class=\"dataframe\">\n",
       "  <thead>\n",
       "    <tr style=\"text-align: right;\">\n",
       "      <th></th>\n",
       "      <th>2021-09-25</th>\n",
       "      <th>2020-09-26</th>\n",
       "      <th>2019-09-28</th>\n",
       "      <th>2018-09-29</th>\n",
       "    </tr>\n",
       "  </thead>\n",
       "  <tbody>\n",
       "    <tr>\n",
       "      <th>Investments</th>\n",
       "      <td>-2.819000e+09</td>\n",
       "      <td>5.335000e+09</td>\n",
       "      <td>5.809300e+10</td>\n",
       "      <td>3.084500e+10</td>\n",
       "    </tr>\n",
       "    <tr>\n",
       "      <th>Change To Liabilities</th>\n",
       "      <td>1.400200e+10</td>\n",
       "      <td>-1.981000e+09</td>\n",
       "      <td>-2.548000e+09</td>\n",
       "      <td>9.172000e+09</td>\n",
       "    </tr>\n",
       "  </tbody>\n",
       "</table>\n",
       "</div>"
      ],
      "text/plain": [
       "                         2021-09-25    2020-09-26    2019-09-28    2018-09-29\n",
       "Investments           -2.819000e+09  5.335000e+09  5.809300e+10  3.084500e+10\n",
       "Change To Liabilities  1.400200e+10 -1.981000e+09 -2.548000e+09  9.172000e+09"
      ]
     },
     "execution_count": 10,
     "metadata": {},
     "output_type": "execute_result"
    }
   ],
   "source": [
    "cashflow.head(2)"
   ]
  },
  {
   "cell_type": "markdown",
   "metadata": {
    "id": "i8fY79Ipoz-M"
   },
   "source": [
    "### 3.Cleaning Data"
   ]
  },
  {
   "cell_type": "code",
   "execution_count": 11,
   "metadata": {
    "id": "dBUXiYKgbdB7"
   },
   "outputs": [],
   "source": [
    "financials = financials.transpose() #transposing the information, so that the dates are rows."
   ]
  },
  {
   "cell_type": "code",
   "execution_count": 12,
   "metadata": {
    "colab": {
     "base_uri": "https://localhost:8080/",
     "height": 404
    },
    "id": "mlYfK4PzbgKq",
    "outputId": "5b49b2ee-141b-4193-ef60-e70bd6bd11f2"
   },
   "outputs": [
    {
     "data": {
      "text/html": [
       "<div>\n",
       "<style scoped>\n",
       "    .dataframe tbody tr th:only-of-type {\n",
       "        vertical-align: middle;\n",
       "    }\n",
       "\n",
       "    .dataframe tbody tr th {\n",
       "        vertical-align: top;\n",
       "    }\n",
       "\n",
       "    .dataframe thead th {\n",
       "        text-align: right;\n",
       "    }\n",
       "</style>\n",
       "<table border=\"1\" class=\"dataframe\">\n",
       "  <thead>\n",
       "    <tr style=\"text-align: right;\">\n",
       "      <th></th>\n",
       "      <th>Research Development</th>\n",
       "      <th>Effect Of Accounting Charges</th>\n",
       "      <th>Income Before Tax</th>\n",
       "      <th>Minority Interest</th>\n",
       "      <th>Net Income</th>\n",
       "      <th>Selling General Administrative</th>\n",
       "      <th>Gross Profit</th>\n",
       "      <th>Ebit</th>\n",
       "      <th>Operating Income</th>\n",
       "      <th>Other Operating Expenses</th>\n",
       "      <th>...</th>\n",
       "      <th>Non Recurring</th>\n",
       "      <th>Other Items</th>\n",
       "      <th>Income Tax Expense</th>\n",
       "      <th>Total Revenue</th>\n",
       "      <th>Total Operating Expenses</th>\n",
       "      <th>Cost Of Revenue</th>\n",
       "      <th>Total Other Income Expense Net</th>\n",
       "      <th>Discontinued Operations</th>\n",
       "      <th>Net Income From Continuing Ops</th>\n",
       "      <th>Net Income Applicable To Common Shares</th>\n",
       "    </tr>\n",
       "    <tr>\n",
       "      <th></th>\n",
       "      <th></th>\n",
       "      <th></th>\n",
       "      <th></th>\n",
       "      <th></th>\n",
       "      <th></th>\n",
       "      <th></th>\n",
       "      <th></th>\n",
       "      <th></th>\n",
       "      <th></th>\n",
       "      <th></th>\n",
       "      <th></th>\n",
       "      <th></th>\n",
       "      <th></th>\n",
       "      <th></th>\n",
       "      <th></th>\n",
       "      <th></th>\n",
       "      <th></th>\n",
       "      <th></th>\n",
       "      <th></th>\n",
       "      <th></th>\n",
       "      <th></th>\n",
       "    </tr>\n",
       "  </thead>\n",
       "  <tbody>\n",
       "    <tr>\n",
       "      <th>2021-09-25</th>\n",
       "      <td>21914000000.0</td>\n",
       "      <td>None</td>\n",
       "      <td>109207000000.0</td>\n",
       "      <td>None</td>\n",
       "      <td>94680000000.0</td>\n",
       "      <td>21973000000.0</td>\n",
       "      <td>152836000000.0</td>\n",
       "      <td>108949000000.0</td>\n",
       "      <td>108949000000.0</td>\n",
       "      <td>None</td>\n",
       "      <td>...</td>\n",
       "      <td>None</td>\n",
       "      <td>None</td>\n",
       "      <td>14527000000.0</td>\n",
       "      <td>365817000000.0</td>\n",
       "      <td>256868000000.0</td>\n",
       "      <td>212981000000.0</td>\n",
       "      <td>258000000.0</td>\n",
       "      <td>None</td>\n",
       "      <td>94680000000.0</td>\n",
       "      <td>94680000000.0</td>\n",
       "    </tr>\n",
       "    <tr>\n",
       "      <th>2020-09-26</th>\n",
       "      <td>18752000000.0</td>\n",
       "      <td>None</td>\n",
       "      <td>67091000000.0</td>\n",
       "      <td>None</td>\n",
       "      <td>57411000000.0</td>\n",
       "      <td>19916000000.0</td>\n",
       "      <td>104956000000.0</td>\n",
       "      <td>66288000000.0</td>\n",
       "      <td>66288000000.0</td>\n",
       "      <td>None</td>\n",
       "      <td>...</td>\n",
       "      <td>None</td>\n",
       "      <td>None</td>\n",
       "      <td>9680000000.0</td>\n",
       "      <td>274515000000.0</td>\n",
       "      <td>208227000000.0</td>\n",
       "      <td>169559000000.0</td>\n",
       "      <td>803000000.0</td>\n",
       "      <td>None</td>\n",
       "      <td>57411000000.0</td>\n",
       "      <td>57411000000.0</td>\n",
       "    </tr>\n",
       "    <tr>\n",
       "      <th>2019-09-28</th>\n",
       "      <td>16217000000.0</td>\n",
       "      <td>None</td>\n",
       "      <td>65737000000.0</td>\n",
       "      <td>None</td>\n",
       "      <td>55256000000.0</td>\n",
       "      <td>18245000000.0</td>\n",
       "      <td>98392000000.0</td>\n",
       "      <td>63930000000.0</td>\n",
       "      <td>63930000000.0</td>\n",
       "      <td>None</td>\n",
       "      <td>...</td>\n",
       "      <td>None</td>\n",
       "      <td>None</td>\n",
       "      <td>10481000000.0</td>\n",
       "      <td>260174000000.0</td>\n",
       "      <td>196244000000.0</td>\n",
       "      <td>161782000000.0</td>\n",
       "      <td>1807000000.0</td>\n",
       "      <td>None</td>\n",
       "      <td>55256000000.0</td>\n",
       "      <td>55256000000.0</td>\n",
       "    </tr>\n",
       "    <tr>\n",
       "      <th>2018-09-29</th>\n",
       "      <td>14236000000.0</td>\n",
       "      <td>None</td>\n",
       "      <td>72903000000.0</td>\n",
       "      <td>None</td>\n",
       "      <td>59531000000.0</td>\n",
       "      <td>16705000000.0</td>\n",
       "      <td>101839000000.0</td>\n",
       "      <td>70898000000.0</td>\n",
       "      <td>70898000000.0</td>\n",
       "      <td>None</td>\n",
       "      <td>...</td>\n",
       "      <td>None</td>\n",
       "      <td>None</td>\n",
       "      <td>13372000000.0</td>\n",
       "      <td>265595000000.0</td>\n",
       "      <td>194697000000.0</td>\n",
       "      <td>163756000000.0</td>\n",
       "      <td>2005000000.0</td>\n",
       "      <td>None</td>\n",
       "      <td>59531000000.0</td>\n",
       "      <td>59531000000.0</td>\n",
       "    </tr>\n",
       "  </tbody>\n",
       "</table>\n",
       "<p>4 rows × 22 columns</p>\n",
       "</div>"
      ],
      "text/plain": [
       "           Research Development Effect Of Accounting Charges  \\\n",
       "                                                               \n",
       "2021-09-25        21914000000.0                         None   \n",
       "2020-09-26        18752000000.0                         None   \n",
       "2019-09-28        16217000000.0                         None   \n",
       "2018-09-29        14236000000.0                         None   \n",
       "\n",
       "           Income Before Tax Minority Interest     Net Income  \\\n",
       "                                                                \n",
       "2021-09-25    109207000000.0              None  94680000000.0   \n",
       "2020-09-26     67091000000.0              None  57411000000.0   \n",
       "2019-09-28     65737000000.0              None  55256000000.0   \n",
       "2018-09-29     72903000000.0              None  59531000000.0   \n",
       "\n",
       "           Selling General Administrative    Gross Profit            Ebit  \\\n",
       "                                                                            \n",
       "2021-09-25                  21973000000.0  152836000000.0  108949000000.0   \n",
       "2020-09-26                  19916000000.0  104956000000.0   66288000000.0   \n",
       "2019-09-28                  18245000000.0   98392000000.0   63930000000.0   \n",
       "2018-09-29                  16705000000.0  101839000000.0   70898000000.0   \n",
       "\n",
       "           Operating Income Other Operating Expenses  ... Non Recurring  \\\n",
       "                                                      ...                 \n",
       "2021-09-25   108949000000.0                     None  ...          None   \n",
       "2020-09-26    66288000000.0                     None  ...          None   \n",
       "2019-09-28    63930000000.0                     None  ...          None   \n",
       "2018-09-29    70898000000.0                     None  ...          None   \n",
       "\n",
       "           Other Items Income Tax Expense   Total Revenue  \\\n",
       "                                                            \n",
       "2021-09-25        None      14527000000.0  365817000000.0   \n",
       "2020-09-26        None       9680000000.0  274515000000.0   \n",
       "2019-09-28        None      10481000000.0  260174000000.0   \n",
       "2018-09-29        None      13372000000.0  265595000000.0   \n",
       "\n",
       "           Total Operating Expenses Cost Of Revenue  \\\n",
       "                                                      \n",
       "2021-09-25           256868000000.0  212981000000.0   \n",
       "2020-09-26           208227000000.0  169559000000.0   \n",
       "2019-09-28           196244000000.0  161782000000.0   \n",
       "2018-09-29           194697000000.0  163756000000.0   \n",
       "\n",
       "           Total Other Income Expense Net Discontinued Operations  \\\n",
       "                                                                    \n",
       "2021-09-25                    258000000.0                    None   \n",
       "2020-09-26                    803000000.0                    None   \n",
       "2019-09-28                   1807000000.0                    None   \n",
       "2018-09-29                   2005000000.0                    None   \n",
       "\n",
       "           Net Income From Continuing Ops  \\\n",
       "                                            \n",
       "2021-09-25                  94680000000.0   \n",
       "2020-09-26                  57411000000.0   \n",
       "2019-09-28                  55256000000.0   \n",
       "2018-09-29                  59531000000.0   \n",
       "\n",
       "           Net Income Applicable To Common Shares  \n",
       "                                                   \n",
       "2021-09-25                          94680000000.0  \n",
       "2020-09-26                          57411000000.0  \n",
       "2019-09-28                          55256000000.0  \n",
       "2018-09-29                          59531000000.0  \n",
       "\n",
       "[4 rows x 22 columns]"
      ]
     },
     "execution_count": 12,
     "metadata": {},
     "output_type": "execute_result"
    }
   ],
   "source": [
    "financials.head() #displaying the data, inspecting the transpose"
   ]
  },
  {
   "cell_type": "code",
   "execution_count": 13,
   "metadata": {
    "id": "8YLmZFYa6Nzl"
   },
   "outputs": [],
   "source": [
    "#transposing balance sheet information\n",
    "balance_sheet = balance_sheet.transpose()"
   ]
  },
  {
   "cell_type": "code",
   "execution_count": 14,
   "metadata": {
    "colab": {
     "base_uri": "https://localhost:8080/",
     "height": 421
    },
    "id": "vBCphQYz6U7Q",
    "outputId": "e2288807-273a-4a2e-c7a7-297921c425dd"
   },
   "outputs": [
    {
     "data": {
      "text/html": [
       "<div>\n",
       "<style scoped>\n",
       "    .dataframe tbody tr th:only-of-type {\n",
       "        vertical-align: middle;\n",
       "    }\n",
       "\n",
       "    .dataframe tbody tr th {\n",
       "        vertical-align: top;\n",
       "    }\n",
       "\n",
       "    .dataframe thead th {\n",
       "        text-align: right;\n",
       "    }\n",
       "</style>\n",
       "<table border=\"1\" class=\"dataframe\">\n",
       "  <thead>\n",
       "    <tr style=\"text-align: right;\">\n",
       "      <th></th>\n",
       "      <th>Total Liab</th>\n",
       "      <th>Total Stockholder Equity</th>\n",
       "      <th>Other Current Liab</th>\n",
       "      <th>Total Assets</th>\n",
       "      <th>Common Stock</th>\n",
       "      <th>Other Current Assets</th>\n",
       "      <th>Retained Earnings</th>\n",
       "      <th>Other Liab</th>\n",
       "      <th>Gains Losses Not Affecting Retained Earnings</th>\n",
       "      <th>Other Assets</th>\n",
       "      <th>...</th>\n",
       "      <th>Other Stockholder Equity</th>\n",
       "      <th>Property Plant Equipment</th>\n",
       "      <th>Total Current Assets</th>\n",
       "      <th>Long Term Investments</th>\n",
       "      <th>Net Tangible Assets</th>\n",
       "      <th>Short Term Investments</th>\n",
       "      <th>Net Receivables</th>\n",
       "      <th>Long Term Debt</th>\n",
       "      <th>Inventory</th>\n",
       "      <th>Accounts Payable</th>\n",
       "    </tr>\n",
       "    <tr>\n",
       "      <th></th>\n",
       "      <th></th>\n",
       "      <th></th>\n",
       "      <th></th>\n",
       "      <th></th>\n",
       "      <th></th>\n",
       "      <th></th>\n",
       "      <th></th>\n",
       "      <th></th>\n",
       "      <th></th>\n",
       "      <th></th>\n",
       "      <th></th>\n",
       "      <th></th>\n",
       "      <th></th>\n",
       "      <th></th>\n",
       "      <th></th>\n",
       "      <th></th>\n",
       "      <th></th>\n",
       "      <th></th>\n",
       "      <th></th>\n",
       "      <th></th>\n",
       "      <th></th>\n",
       "    </tr>\n",
       "  </thead>\n",
       "  <tbody>\n",
       "    <tr>\n",
       "      <th>2021-09-25</th>\n",
       "      <td>2.879120e+11</td>\n",
       "      <td>6.309000e+10</td>\n",
       "      <td>5.357700e+10</td>\n",
       "      <td>3.510020e+11</td>\n",
       "      <td>5.736500e+10</td>\n",
       "      <td>1.411100e+10</td>\n",
       "      <td>5.562000e+09</td>\n",
       "      <td>4.305000e+10</td>\n",
       "      <td>1.630000e+08</td>\n",
       "      <td>3.876200e+10</td>\n",
       "      <td>...</td>\n",
       "      <td>1.630000e+08</td>\n",
       "      <td>4.952700e+10</td>\n",
       "      <td>1.348360e+11</td>\n",
       "      <td>1.278770e+11</td>\n",
       "      <td>6.309000e+10</td>\n",
       "      <td>2.769900e+10</td>\n",
       "      <td>5.150600e+10</td>\n",
       "      <td>1.091060e+11</td>\n",
       "      <td>6.580000e+09</td>\n",
       "      <td>5.476300e+10</td>\n",
       "    </tr>\n",
       "    <tr>\n",
       "      <th>2020-09-26</th>\n",
       "      <td>2.585490e+11</td>\n",
       "      <td>6.533900e+10</td>\n",
       "      <td>4.786700e+10</td>\n",
       "      <td>3.238880e+11</td>\n",
       "      <td>5.077900e+10</td>\n",
       "      <td>1.126400e+10</td>\n",
       "      <td>1.496600e+10</td>\n",
       "      <td>4.610800e+10</td>\n",
       "      <td>-4.060000e+08</td>\n",
       "      <td>3.395200e+10</td>\n",
       "      <td>...</td>\n",
       "      <td>-4.060000e+08</td>\n",
       "      <td>4.533600e+10</td>\n",
       "      <td>1.437130e+11</td>\n",
       "      <td>1.008870e+11</td>\n",
       "      <td>6.533900e+10</td>\n",
       "      <td>5.292700e+10</td>\n",
       "      <td>3.744500e+10</td>\n",
       "      <td>9.866700e+10</td>\n",
       "      <td>4.061000e+09</td>\n",
       "      <td>4.229600e+10</td>\n",
       "    </tr>\n",
       "    <tr>\n",
       "      <th>2019-09-28</th>\n",
       "      <td>2.480280e+11</td>\n",
       "      <td>9.048800e+10</td>\n",
       "      <td>4.324200e+10</td>\n",
       "      <td>3.385160e+11</td>\n",
       "      <td>4.517400e+10</td>\n",
       "      <td>1.235200e+10</td>\n",
       "      <td>4.589800e+10</td>\n",
       "      <td>5.050300e+10</td>\n",
       "      <td>-5.840000e+08</td>\n",
       "      <td>3.297800e+10</td>\n",
       "      <td>...</td>\n",
       "      <td>-5.840000e+08</td>\n",
       "      <td>3.737800e+10</td>\n",
       "      <td>1.628190e+11</td>\n",
       "      <td>1.053410e+11</td>\n",
       "      <td>9.048800e+10</td>\n",
       "      <td>5.171300e+10</td>\n",
       "      <td>4.580400e+10</td>\n",
       "      <td>9.180700e+10</td>\n",
       "      <td>4.106000e+09</td>\n",
       "      <td>4.623600e+10</td>\n",
       "    </tr>\n",
       "    <tr>\n",
       "      <th>2018-09-29</th>\n",
       "      <td>2.585780e+11</td>\n",
       "      <td>1.071470e+11</td>\n",
       "      <td>3.929300e+10</td>\n",
       "      <td>3.657250e+11</td>\n",
       "      <td>4.020100e+10</td>\n",
       "      <td>1.208700e+10</td>\n",
       "      <td>7.040000e+10</td>\n",
       "      <td>4.891400e+10</td>\n",
       "      <td>-3.454000e+09</td>\n",
       "      <td>2.228300e+10</td>\n",
       "      <td>...</td>\n",
       "      <td>-3.454000e+09</td>\n",
       "      <td>4.130400e+10</td>\n",
       "      <td>1.313390e+11</td>\n",
       "      <td>1.707990e+11</td>\n",
       "      <td>1.071470e+11</td>\n",
       "      <td>4.038800e+10</td>\n",
       "      <td>4.899500e+10</td>\n",
       "      <td>9.373500e+10</td>\n",
       "      <td>3.956000e+09</td>\n",
       "      <td>5.588800e+10</td>\n",
       "    </tr>\n",
       "  </tbody>\n",
       "</table>\n",
       "<p>4 rows × 23 columns</p>\n",
       "</div>"
      ],
      "text/plain": [
       "              Total Liab  Total Stockholder Equity  Other Current Liab  \\\n",
       "                                                                         \n",
       "2021-09-25  2.879120e+11              6.309000e+10        5.357700e+10   \n",
       "2020-09-26  2.585490e+11              6.533900e+10        4.786700e+10   \n",
       "2019-09-28  2.480280e+11              9.048800e+10        4.324200e+10   \n",
       "2018-09-29  2.585780e+11              1.071470e+11        3.929300e+10   \n",
       "\n",
       "            Total Assets  Common Stock  Other Current Assets  \\\n",
       "                                                               \n",
       "2021-09-25  3.510020e+11  5.736500e+10          1.411100e+10   \n",
       "2020-09-26  3.238880e+11  5.077900e+10          1.126400e+10   \n",
       "2019-09-28  3.385160e+11  4.517400e+10          1.235200e+10   \n",
       "2018-09-29  3.657250e+11  4.020100e+10          1.208700e+10   \n",
       "\n",
       "            Retained Earnings    Other Liab  \\\n",
       "                                              \n",
       "2021-09-25       5.562000e+09  4.305000e+10   \n",
       "2020-09-26       1.496600e+10  4.610800e+10   \n",
       "2019-09-28       4.589800e+10  5.050300e+10   \n",
       "2018-09-29       7.040000e+10  4.891400e+10   \n",
       "\n",
       "            Gains Losses Not Affecting Retained Earnings  Other Assets  ...  \\\n",
       "                                                                        ...   \n",
       "2021-09-25                                  1.630000e+08  3.876200e+10  ...   \n",
       "2020-09-26                                 -4.060000e+08  3.395200e+10  ...   \n",
       "2019-09-28                                 -5.840000e+08  3.297800e+10  ...   \n",
       "2018-09-29                                 -3.454000e+09  2.228300e+10  ...   \n",
       "\n",
       "            Other Stockholder Equity  Property Plant Equipment  \\\n",
       "                                                                 \n",
       "2021-09-25              1.630000e+08              4.952700e+10   \n",
       "2020-09-26             -4.060000e+08              4.533600e+10   \n",
       "2019-09-28             -5.840000e+08              3.737800e+10   \n",
       "2018-09-29             -3.454000e+09              4.130400e+10   \n",
       "\n",
       "            Total Current Assets  Long Term Investments  Net Tangible Assets  \\\n",
       "                                                                               \n",
       "2021-09-25          1.348360e+11           1.278770e+11         6.309000e+10   \n",
       "2020-09-26          1.437130e+11           1.008870e+11         6.533900e+10   \n",
       "2019-09-28          1.628190e+11           1.053410e+11         9.048800e+10   \n",
       "2018-09-29          1.313390e+11           1.707990e+11         1.071470e+11   \n",
       "\n",
       "            Short Term Investments  Net Receivables  Long Term Debt  \\\n",
       "                                                                      \n",
       "2021-09-25            2.769900e+10     5.150600e+10    1.091060e+11   \n",
       "2020-09-26            5.292700e+10     3.744500e+10    9.866700e+10   \n",
       "2019-09-28            5.171300e+10     4.580400e+10    9.180700e+10   \n",
       "2018-09-29            4.038800e+10     4.899500e+10    9.373500e+10   \n",
       "\n",
       "               Inventory  Accounts Payable  \n",
       "                                            \n",
       "2021-09-25  6.580000e+09      5.476300e+10  \n",
       "2020-09-26  4.061000e+09      4.229600e+10  \n",
       "2019-09-28  4.106000e+09      4.623600e+10  \n",
       "2018-09-29  3.956000e+09      5.588800e+10  \n",
       "\n",
       "[4 rows x 23 columns]"
      ]
     },
     "execution_count": 14,
     "metadata": {},
     "output_type": "execute_result"
    }
   ],
   "source": [
    "#inspecting the balance sheet\n",
    "balance_sheet.head()"
   ]
  },
  {
   "cell_type": "code",
   "execution_count": 15,
   "metadata": {
    "id": "a5sIC8x285F0"
   },
   "outputs": [],
   "source": [
    "cashflow = cashflow.transpose()"
   ]
  },
  {
   "cell_type": "code",
   "execution_count": 16,
   "metadata": {
    "colab": {
     "base_uri": "https://localhost:8080/",
     "height": 392
    },
    "id": "z6G2-kTL-hK1",
    "outputId": "81e88e96-7355-4d16-810b-eada520638bd"
   },
   "outputs": [
    {
     "data": {
      "text/html": [
       "<div>\n",
       "<style scoped>\n",
       "    .dataframe tbody tr th:only-of-type {\n",
       "        vertical-align: middle;\n",
       "    }\n",
       "\n",
       "    .dataframe tbody tr th {\n",
       "        vertical-align: top;\n",
       "    }\n",
       "\n",
       "    .dataframe thead th {\n",
       "        text-align: right;\n",
       "    }\n",
       "</style>\n",
       "<table border=\"1\" class=\"dataframe\">\n",
       "  <thead>\n",
       "    <tr style=\"text-align: right;\">\n",
       "      <th></th>\n",
       "      <th>Investments</th>\n",
       "      <th>Change To Liabilities</th>\n",
       "      <th>Total Cashflows From Investing Activities</th>\n",
       "      <th>Net Borrowings</th>\n",
       "      <th>Total Cash From Financing Activities</th>\n",
       "      <th>Change To Operating Activities</th>\n",
       "      <th>Issuance Of Stock</th>\n",
       "      <th>Net Income</th>\n",
       "      <th>Change In Cash</th>\n",
       "      <th>Repurchase Of Stock</th>\n",
       "      <th>Total Cash From Operating Activities</th>\n",
       "      <th>Depreciation</th>\n",
       "      <th>Other Cashflows From Investing Activities</th>\n",
       "      <th>Dividends Paid</th>\n",
       "      <th>Change To Inventory</th>\n",
       "      <th>Change To Account Receivables</th>\n",
       "      <th>Other Cashflows From Financing Activities</th>\n",
       "      <th>Change To Netincome</th>\n",
       "      <th>Capital Expenditures</th>\n",
       "    </tr>\n",
       "    <tr>\n",
       "      <th></th>\n",
       "      <th></th>\n",
       "      <th></th>\n",
       "      <th></th>\n",
       "      <th></th>\n",
       "      <th></th>\n",
       "      <th></th>\n",
       "      <th></th>\n",
       "      <th></th>\n",
       "      <th></th>\n",
       "      <th></th>\n",
       "      <th></th>\n",
       "      <th></th>\n",
       "      <th></th>\n",
       "      <th></th>\n",
       "      <th></th>\n",
       "      <th></th>\n",
       "      <th></th>\n",
       "      <th></th>\n",
       "      <th></th>\n",
       "    </tr>\n",
       "  </thead>\n",
       "  <tbody>\n",
       "    <tr>\n",
       "      <th>2021-09-25</th>\n",
       "      <td>-2.819000e+09</td>\n",
       "      <td>1.400200e+10</td>\n",
       "      <td>-1.454500e+10</td>\n",
       "      <td>1.266500e+10</td>\n",
       "      <td>-9.335300e+10</td>\n",
       "      <td>-6.146000e+09</td>\n",
       "      <td>1.105000e+09</td>\n",
       "      <td>9.468000e+10</td>\n",
       "      <td>-3.860000e+09</td>\n",
       "      <td>-9.252700e+10</td>\n",
       "      <td>1.040380e+11</td>\n",
       "      <td>1.128400e+10</td>\n",
       "      <td>-6.080000e+08</td>\n",
       "      <td>-1.446700e+10</td>\n",
       "      <td>-2.642000e+09</td>\n",
       "      <td>-1.012500e+10</td>\n",
       "      <td>-129000000.0</td>\n",
       "      <td>2.985000e+09</td>\n",
       "      <td>-1.108500e+10</td>\n",
       "    </tr>\n",
       "    <tr>\n",
       "      <th>2020-09-26</th>\n",
       "      <td>5.335000e+09</td>\n",
       "      <td>-1.981000e+09</td>\n",
       "      <td>-4.289000e+09</td>\n",
       "      <td>2.499000e+09</td>\n",
       "      <td>-8.682000e+10</td>\n",
       "      <td>8.810000e+08</td>\n",
       "      <td>8.800000e+08</td>\n",
       "      <td>5.741100e+10</td>\n",
       "      <td>-1.043500e+10</td>\n",
       "      <td>-7.599200e+10</td>\n",
       "      <td>8.067400e+10</td>\n",
       "      <td>1.105600e+10</td>\n",
       "      <td>-7.910000e+08</td>\n",
       "      <td>-1.408100e+10</td>\n",
       "      <td>-1.270000e+08</td>\n",
       "      <td>6.917000e+09</td>\n",
       "      <td>-126000000.0</td>\n",
       "      <td>6.517000e+09</td>\n",
       "      <td>-7.309000e+09</td>\n",
       "    </tr>\n",
       "    <tr>\n",
       "      <th>2019-09-28</th>\n",
       "      <td>5.809300e+10</td>\n",
       "      <td>-2.548000e+09</td>\n",
       "      <td>4.589600e+10</td>\n",
       "      <td>-7.819000e+09</td>\n",
       "      <td>-9.097600e+10</td>\n",
       "      <td>-8.960000e+08</td>\n",
       "      <td>7.810000e+08</td>\n",
       "      <td>5.525600e+10</td>\n",
       "      <td>2.431100e+10</td>\n",
       "      <td>-6.971400e+10</td>\n",
       "      <td>6.939100e+10</td>\n",
       "      <td>1.254700e+10</td>\n",
       "      <td>-1.078000e+09</td>\n",
       "      <td>-1.411900e+10</td>\n",
       "      <td>-2.890000e+08</td>\n",
       "      <td>2.450000e+08</td>\n",
       "      <td>-105000000.0</td>\n",
       "      <td>5.076000e+09</td>\n",
       "      <td>-1.049500e+10</td>\n",
       "    </tr>\n",
       "    <tr>\n",
       "      <th>2018-09-29</th>\n",
       "      <td>3.084500e+10</td>\n",
       "      <td>9.172000e+09</td>\n",
       "      <td>1.606600e+10</td>\n",
       "      <td>4.320000e+08</td>\n",
       "      <td>-8.787600e+10</td>\n",
       "      <td>3.001600e+10</td>\n",
       "      <td>6.690000e+08</td>\n",
       "      <td>5.953100e+10</td>\n",
       "      <td>5.624000e+09</td>\n",
       "      <td>-7.526500e+10</td>\n",
       "      <td>7.743400e+10</td>\n",
       "      <td>1.090300e+10</td>\n",
       "      <td>-7.450000e+08</td>\n",
       "      <td>-1.371200e+10</td>\n",
       "      <td>8.280000e+08</td>\n",
       "      <td>-5.322000e+09</td>\n",
       "      <td>-105000000.0</td>\n",
       "      <td>-2.769400e+10</td>\n",
       "      <td>-1.331300e+10</td>\n",
       "    </tr>\n",
       "  </tbody>\n",
       "</table>\n",
       "</div>"
      ],
      "text/plain": [
       "             Investments  Change To Liabilities  \\\n",
       "                                                  \n",
       "2021-09-25 -2.819000e+09           1.400200e+10   \n",
       "2020-09-26  5.335000e+09          -1.981000e+09   \n",
       "2019-09-28  5.809300e+10          -2.548000e+09   \n",
       "2018-09-29  3.084500e+10           9.172000e+09   \n",
       "\n",
       "            Total Cashflows From Investing Activities  Net Borrowings  \\\n",
       "                                                                        \n",
       "2021-09-25                              -1.454500e+10    1.266500e+10   \n",
       "2020-09-26                              -4.289000e+09    2.499000e+09   \n",
       "2019-09-28                               4.589600e+10   -7.819000e+09   \n",
       "2018-09-29                               1.606600e+10    4.320000e+08   \n",
       "\n",
       "            Total Cash From Financing Activities  \\\n",
       "                                                   \n",
       "2021-09-25                         -9.335300e+10   \n",
       "2020-09-26                         -8.682000e+10   \n",
       "2019-09-28                         -9.097600e+10   \n",
       "2018-09-29                         -8.787600e+10   \n",
       "\n",
       "            Change To Operating Activities  Issuance Of Stock    Net Income  \\\n",
       "                                                                              \n",
       "2021-09-25                   -6.146000e+09       1.105000e+09  9.468000e+10   \n",
       "2020-09-26                    8.810000e+08       8.800000e+08  5.741100e+10   \n",
       "2019-09-28                   -8.960000e+08       7.810000e+08  5.525600e+10   \n",
       "2018-09-29                    3.001600e+10       6.690000e+08  5.953100e+10   \n",
       "\n",
       "            Change In Cash  Repurchase Of Stock  \\\n",
       "                                                  \n",
       "2021-09-25   -3.860000e+09        -9.252700e+10   \n",
       "2020-09-26   -1.043500e+10        -7.599200e+10   \n",
       "2019-09-28    2.431100e+10        -6.971400e+10   \n",
       "2018-09-29    5.624000e+09        -7.526500e+10   \n",
       "\n",
       "            Total Cash From Operating Activities  Depreciation  \\\n",
       "                                                                 \n",
       "2021-09-25                          1.040380e+11  1.128400e+10   \n",
       "2020-09-26                          8.067400e+10  1.105600e+10   \n",
       "2019-09-28                          6.939100e+10  1.254700e+10   \n",
       "2018-09-29                          7.743400e+10  1.090300e+10   \n",
       "\n",
       "            Other Cashflows From Investing Activities  Dividends Paid  \\\n",
       "                                                                        \n",
       "2021-09-25                              -6.080000e+08   -1.446700e+10   \n",
       "2020-09-26                              -7.910000e+08   -1.408100e+10   \n",
       "2019-09-28                              -1.078000e+09   -1.411900e+10   \n",
       "2018-09-29                              -7.450000e+08   -1.371200e+10   \n",
       "\n",
       "            Change To Inventory  Change To Account Receivables  \\\n",
       "                                                                 \n",
       "2021-09-25        -2.642000e+09                  -1.012500e+10   \n",
       "2020-09-26        -1.270000e+08                   6.917000e+09   \n",
       "2019-09-28        -2.890000e+08                   2.450000e+08   \n",
       "2018-09-29         8.280000e+08                  -5.322000e+09   \n",
       "\n",
       "            Other Cashflows From Financing Activities  Change To Netincome  \\\n",
       "                                                                             \n",
       "2021-09-25                               -129000000.0         2.985000e+09   \n",
       "2020-09-26                               -126000000.0         6.517000e+09   \n",
       "2019-09-28                               -105000000.0         5.076000e+09   \n",
       "2018-09-29                               -105000000.0        -2.769400e+10   \n",
       "\n",
       "            Capital Expenditures  \n",
       "                                  \n",
       "2021-09-25         -1.108500e+10  \n",
       "2020-09-26         -7.309000e+09  \n",
       "2019-09-28         -1.049500e+10  \n",
       "2018-09-29         -1.331300e+10  "
      ]
     },
     "execution_count": 16,
     "metadata": {},
     "output_type": "execute_result"
    }
   ],
   "source": [
    "cashflow"
   ]
  },
  {
   "cell_type": "code",
   "execution_count": 18,
   "metadata": {
    "id": "CmGaKLL24vBe"
   },
   "outputs": [],
   "source": [
    "#replacing empty spaces in heading with underscore\n",
    "financials.columns = financials.columns.str.replace(' ','_');\n",
    "financials.columns = financials.columns.str.strip() \n",
    "\n",
    "balance_sheet.columns = balance_sheet.columns.str.replace(' ','_');\n",
    "balance_sheet.columns = balance_sheet.columns.str.strip() \n",
    "\n",
    "cashflow.columns = cashflow.columns.str.replace(' ','_');\n",
    "cashflow.columns = cashflow.columns.str.strip() "
   ]
  },
  {
   "cell_type": "markdown",
   "metadata": {
    "id": "s-hH2HiHzIgi"
   },
   "source": []
  },
  {
   "cell_type": "code",
   "execution_count": 19,
   "metadata": {
    "colab": {
     "base_uri": "https://localhost:8080/",
     "height": 352
    },
    "id": "0hQKy9sIsVpk",
    "outputId": "bb0a48ba-c10e-4fcc-a862-81f562a4043f"
   },
   "outputs": [
    {
     "data": {
      "text/html": [
       "<div>\n",
       "<style scoped>\n",
       "    .dataframe tbody tr th:only-of-type {\n",
       "        vertical-align: middle;\n",
       "    }\n",
       "\n",
       "    .dataframe tbody tr th {\n",
       "        vertical-align: top;\n",
       "    }\n",
       "\n",
       "    .dataframe thead th {\n",
       "        text-align: right;\n",
       "    }\n",
       "</style>\n",
       "<table border=\"1\" class=\"dataframe\">\n",
       "  <thead>\n",
       "    <tr style=\"text-align: right;\">\n",
       "      <th></th>\n",
       "      <th>Research_Development</th>\n",
       "      <th>Effect_Of_Accounting_Charges</th>\n",
       "      <th>Income_Before_Tax</th>\n",
       "      <th>Minority_Interest</th>\n",
       "      <th>Net_Income</th>\n",
       "      <th>Selling_General_Administrative</th>\n",
       "      <th>Gross_Profit</th>\n",
       "      <th>Ebit</th>\n",
       "      <th>Operating_Income</th>\n",
       "      <th>Other_Operating_Expenses</th>\n",
       "      <th>...</th>\n",
       "      <th>Non_Recurring</th>\n",
       "      <th>Other_Items</th>\n",
       "      <th>Income_Tax_Expense</th>\n",
       "      <th>Total_Revenue</th>\n",
       "      <th>Total_Operating_Expenses</th>\n",
       "      <th>Cost_Of_Revenue</th>\n",
       "      <th>Total_Other_Income_Expense_Net</th>\n",
       "      <th>Discontinued_Operations</th>\n",
       "      <th>Net_Income_From_Continuing_Ops</th>\n",
       "      <th>Net_Income_Applicable_To_Common_Shares</th>\n",
       "    </tr>\n",
       "    <tr>\n",
       "      <th></th>\n",
       "      <th></th>\n",
       "      <th></th>\n",
       "      <th></th>\n",
       "      <th></th>\n",
       "      <th></th>\n",
       "      <th></th>\n",
       "      <th></th>\n",
       "      <th></th>\n",
       "      <th></th>\n",
       "      <th></th>\n",
       "      <th></th>\n",
       "      <th></th>\n",
       "      <th></th>\n",
       "      <th></th>\n",
       "      <th></th>\n",
       "      <th></th>\n",
       "      <th></th>\n",
       "      <th></th>\n",
       "      <th></th>\n",
       "      <th></th>\n",
       "      <th></th>\n",
       "    </tr>\n",
       "  </thead>\n",
       "  <tbody>\n",
       "    <tr>\n",
       "      <th>2021-09-25</th>\n",
       "      <td>21914000000.0</td>\n",
       "      <td>None</td>\n",
       "      <td>109207000000.0</td>\n",
       "      <td>None</td>\n",
       "      <td>94680000000.0</td>\n",
       "      <td>21973000000.0</td>\n",
       "      <td>152836000000.0</td>\n",
       "      <td>108949000000.0</td>\n",
       "      <td>108949000000.0</td>\n",
       "      <td>None</td>\n",
       "      <td>...</td>\n",
       "      <td>None</td>\n",
       "      <td>None</td>\n",
       "      <td>14527000000.0</td>\n",
       "      <td>365817000000.0</td>\n",
       "      <td>256868000000.0</td>\n",
       "      <td>212981000000.0</td>\n",
       "      <td>258000000.0</td>\n",
       "      <td>None</td>\n",
       "      <td>94680000000.0</td>\n",
       "      <td>94680000000.0</td>\n",
       "    </tr>\n",
       "    <tr>\n",
       "      <th>2020-09-26</th>\n",
       "      <td>18752000000.0</td>\n",
       "      <td>None</td>\n",
       "      <td>67091000000.0</td>\n",
       "      <td>None</td>\n",
       "      <td>57411000000.0</td>\n",
       "      <td>19916000000.0</td>\n",
       "      <td>104956000000.0</td>\n",
       "      <td>66288000000.0</td>\n",
       "      <td>66288000000.0</td>\n",
       "      <td>None</td>\n",
       "      <td>...</td>\n",
       "      <td>None</td>\n",
       "      <td>None</td>\n",
       "      <td>9680000000.0</td>\n",
       "      <td>274515000000.0</td>\n",
       "      <td>208227000000.0</td>\n",
       "      <td>169559000000.0</td>\n",
       "      <td>803000000.0</td>\n",
       "      <td>None</td>\n",
       "      <td>57411000000.0</td>\n",
       "      <td>57411000000.0</td>\n",
       "    </tr>\n",
       "    <tr>\n",
       "      <th>2019-09-28</th>\n",
       "      <td>16217000000.0</td>\n",
       "      <td>None</td>\n",
       "      <td>65737000000.0</td>\n",
       "      <td>None</td>\n",
       "      <td>55256000000.0</td>\n",
       "      <td>18245000000.0</td>\n",
       "      <td>98392000000.0</td>\n",
       "      <td>63930000000.0</td>\n",
       "      <td>63930000000.0</td>\n",
       "      <td>None</td>\n",
       "      <td>...</td>\n",
       "      <td>None</td>\n",
       "      <td>None</td>\n",
       "      <td>10481000000.0</td>\n",
       "      <td>260174000000.0</td>\n",
       "      <td>196244000000.0</td>\n",
       "      <td>161782000000.0</td>\n",
       "      <td>1807000000.0</td>\n",
       "      <td>None</td>\n",
       "      <td>55256000000.0</td>\n",
       "      <td>55256000000.0</td>\n",
       "    </tr>\n",
       "    <tr>\n",
       "      <th>2018-09-29</th>\n",
       "      <td>14236000000.0</td>\n",
       "      <td>None</td>\n",
       "      <td>72903000000.0</td>\n",
       "      <td>None</td>\n",
       "      <td>59531000000.0</td>\n",
       "      <td>16705000000.0</td>\n",
       "      <td>101839000000.0</td>\n",
       "      <td>70898000000.0</td>\n",
       "      <td>70898000000.0</td>\n",
       "      <td>None</td>\n",
       "      <td>...</td>\n",
       "      <td>None</td>\n",
       "      <td>None</td>\n",
       "      <td>13372000000.0</td>\n",
       "      <td>265595000000.0</td>\n",
       "      <td>194697000000.0</td>\n",
       "      <td>163756000000.0</td>\n",
       "      <td>2005000000.0</td>\n",
       "      <td>None</td>\n",
       "      <td>59531000000.0</td>\n",
       "      <td>59531000000.0</td>\n",
       "    </tr>\n",
       "  </tbody>\n",
       "</table>\n",
       "<p>4 rows × 22 columns</p>\n",
       "</div>"
      ],
      "text/plain": [
       "           Research_Development Effect_Of_Accounting_Charges  \\\n",
       "                                                               \n",
       "2021-09-25        21914000000.0                         None   \n",
       "2020-09-26        18752000000.0                         None   \n",
       "2019-09-28        16217000000.0                         None   \n",
       "2018-09-29        14236000000.0                         None   \n",
       "\n",
       "           Income_Before_Tax Minority_Interest     Net_Income  \\\n",
       "                                                                \n",
       "2021-09-25    109207000000.0              None  94680000000.0   \n",
       "2020-09-26     67091000000.0              None  57411000000.0   \n",
       "2019-09-28     65737000000.0              None  55256000000.0   \n",
       "2018-09-29     72903000000.0              None  59531000000.0   \n",
       "\n",
       "           Selling_General_Administrative    Gross_Profit            Ebit  \\\n",
       "                                                                            \n",
       "2021-09-25                  21973000000.0  152836000000.0  108949000000.0   \n",
       "2020-09-26                  19916000000.0  104956000000.0   66288000000.0   \n",
       "2019-09-28                  18245000000.0   98392000000.0   63930000000.0   \n",
       "2018-09-29                  16705000000.0  101839000000.0   70898000000.0   \n",
       "\n",
       "           Operating_Income Other_Operating_Expenses  ... Non_Recurring  \\\n",
       "                                                      ...                 \n",
       "2021-09-25   108949000000.0                     None  ...          None   \n",
       "2020-09-26    66288000000.0                     None  ...          None   \n",
       "2019-09-28    63930000000.0                     None  ...          None   \n",
       "2018-09-29    70898000000.0                     None  ...          None   \n",
       "\n",
       "           Other_Items Income_Tax_Expense   Total_Revenue  \\\n",
       "                                                            \n",
       "2021-09-25        None      14527000000.0  365817000000.0   \n",
       "2020-09-26        None       9680000000.0  274515000000.0   \n",
       "2019-09-28        None      10481000000.0  260174000000.0   \n",
       "2018-09-29        None      13372000000.0  265595000000.0   \n",
       "\n",
       "           Total_Operating_Expenses Cost_Of_Revenue  \\\n",
       "                                                      \n",
       "2021-09-25           256868000000.0  212981000000.0   \n",
       "2020-09-26           208227000000.0  169559000000.0   \n",
       "2019-09-28           196244000000.0  161782000000.0   \n",
       "2018-09-29           194697000000.0  163756000000.0   \n",
       "\n",
       "           Total_Other_Income_Expense_Net Discontinued_Operations  \\\n",
       "                                                                    \n",
       "2021-09-25                    258000000.0                    None   \n",
       "2020-09-26                    803000000.0                    None   \n",
       "2019-09-28                   1807000000.0                    None   \n",
       "2018-09-29                   2005000000.0                    None   \n",
       "\n",
       "           Net_Income_From_Continuing_Ops  \\\n",
       "                                            \n",
       "2021-09-25                  94680000000.0   \n",
       "2020-09-26                  57411000000.0   \n",
       "2019-09-28                  55256000000.0   \n",
       "2018-09-29                  59531000000.0   \n",
       "\n",
       "           Net_Income_Applicable_To_Common_Shares  \n",
       "                                                   \n",
       "2021-09-25                          94680000000.0  \n",
       "2020-09-26                          57411000000.0  \n",
       "2019-09-28                          55256000000.0  \n",
       "2018-09-29                          59531000000.0  \n",
       "\n",
       "[4 rows x 22 columns]"
      ]
     },
     "execution_count": 19,
     "metadata": {},
     "output_type": "execute_result"
    }
   ],
   "source": [
    "financials #displaying financials dataframe"
   ]
  },
  {
   "cell_type": "code",
   "execution_count": 20,
   "metadata": {
    "colab": {
     "base_uri": "https://localhost:8080/"
    },
    "id": "LEN4zY7XaNq0",
    "outputId": "438bd9fe-facf-49d2-d769-0d7038be31d7"
   },
   "outputs": [
    {
     "data": {
      "text/plain": [
       "Research_Development                      object\n",
       "Effect_Of_Accounting_Charges              object\n",
       "Income_Before_Tax                         object\n",
       "Minority_Interest                         object\n",
       "Net_Income                                object\n",
       "Selling_General_Administrative            object\n",
       "Gross_Profit                              object\n",
       "Ebit                                      object\n",
       "Operating_Income                          object\n",
       "Other_Operating_Expenses                  object\n",
       "Interest_Expense                          object\n",
       "Extraordinary_Items                       object\n",
       "Non_Recurring                             object\n",
       "Other_Items                               object\n",
       "Income_Tax_Expense                        object\n",
       "Total_Revenue                             object\n",
       "Total_Operating_Expenses                  object\n",
       "Cost_Of_Revenue                           object\n",
       "Total_Other_Income_Expense_Net            object\n",
       "Discontinued_Operations                   object\n",
       "Net_Income_From_Continuing_Ops            object\n",
       "Net_Income_Applicable_To_Common_Shares    object\n",
       "dtype: object"
      ]
     },
     "execution_count": 20,
     "metadata": {},
     "output_type": "execute_result"
    }
   ],
   "source": [
    "#inspecting the datatypes\n",
    "financials.dtypes"
   ]
  },
  {
   "cell_type": "markdown",
   "metadata": {
    "id": "UNhpx_dBMStr"
   },
   "source": [
    "The datatypes in the finanicals dataset consits of string, I will convert this into a float datatype."
   ]
  },
  {
   "cell_type": "code",
   "execution_count": 21,
   "metadata": {
    "colab": {
     "base_uri": "https://localhost:8080/"
    },
    "id": "7Ndt4nBd3SHm",
    "outputId": "f705a894-fb94-4db6-f343-eca2e451f9ef"
   },
   "outputs": [
    {
     "data": {
      "text/plain": [
       "Open         float64\n",
       "High         float64\n",
       "Low          float64\n",
       "Close        float64\n",
       "Adj Close    float64\n",
       "Volume         int64\n",
       "dtype: object"
      ]
     },
     "execution_count": 21,
     "metadata": {},
     "output_type": "execute_result"
    }
   ],
   "source": [
    "#inspecting datatype for stock data\n",
    "data.dtypes"
   ]
  },
  {
   "cell_type": "code",
   "execution_count": 22,
   "metadata": {
    "colab": {
     "base_uri": "https://localhost:8080/"
    },
    "id": "pGN4wjTe_Gfx",
    "outputId": "c068303e-9e4a-4dc3-c0b6-d6411affc11d"
   },
   "outputs": [
    {
     "data": {
      "text/plain": [
       "Investments                                  float64\n",
       "Change_To_Liabilities                        float64\n",
       "Total_Cashflows_From_Investing_Activities    float64\n",
       "Net_Borrowings                               float64\n",
       "Total_Cash_From_Financing_Activities         float64\n",
       "Change_To_Operating_Activities               float64\n",
       "Issuance_Of_Stock                            float64\n",
       "Net_Income                                   float64\n",
       "Change_In_Cash                               float64\n",
       "Repurchase_Of_Stock                          float64\n",
       "Total_Cash_From_Operating_Activities         float64\n",
       "Depreciation                                 float64\n",
       "Other_Cashflows_From_Investing_Activities    float64\n",
       "Dividends_Paid                               float64\n",
       "Change_To_Inventory                          float64\n",
       "Change_To_Account_Receivables                float64\n",
       "Other_Cashflows_From_Financing_Activities    float64\n",
       "Change_To_Netincome                          float64\n",
       "Capital_Expenditures                         float64\n",
       "dtype: object"
      ]
     },
     "execution_count": 22,
     "metadata": {},
     "output_type": "execute_result"
    }
   ],
   "source": [
    "cashflow.dtypes"
   ]
  },
  {
   "cell_type": "code",
   "execution_count": 23,
   "metadata": {
    "colab": {
     "base_uri": "https://localhost:8080/"
    },
    "id": "HU3Ana-97nHs",
    "outputId": "182755c5-f943-4c76-a0e1-ae04ee679dbd"
   },
   "outputs": [
    {
     "data": {
      "text/plain": [
       "Total_Liab                                      float64\n",
       "Total_Stockholder_Equity                        float64\n",
       "Other_Current_Liab                              float64\n",
       "Total_Assets                                    float64\n",
       "Common_Stock                                    float64\n",
       "Other_Current_Assets                            float64\n",
       "Retained_Earnings                               float64\n",
       "Other_Liab                                      float64\n",
       "Gains_Losses_Not_Affecting_Retained_Earnings    float64\n",
       "Other_Assets                                    float64\n",
       "Cash                                            float64\n",
       "Total_Current_Liabilities                       float64\n",
       "Short_Long_Term_Debt                            float64\n",
       "Other_Stockholder_Equity                        float64\n",
       "Property_Plant_Equipment                        float64\n",
       "Total_Current_Assets                            float64\n",
       "Long_Term_Investments                           float64\n",
       "Net_Tangible_Assets                             float64\n",
       "Short_Term_Investments                          float64\n",
       "Net_Receivables                                 float64\n",
       "Long_Term_Debt                                  float64\n",
       "Inventory                                       float64\n",
       "Accounts_Payable                                float64\n",
       "dtype: object"
      ]
     },
     "execution_count": 23,
     "metadata": {},
     "output_type": "execute_result"
    }
   ],
   "source": [
    "balance_sheet.dtypes"
   ]
  },
  {
   "cell_type": "code",
   "execution_count": 24,
   "metadata": {
    "id": "jyKX7xyLu49v"
   },
   "outputs": [],
   "source": [
    " #converting datatypes from string to float\n",
    "for i in financials.columns:\n",
    "  financials[i] = financials[i].astype(float)"
   ]
  },
  {
   "cell_type": "code",
   "execution_count": 25,
   "metadata": {
    "id": "AsC-Tft6vIo8"
   },
   "outputs": [],
   "source": [
    "#dividing values by 1,000,000 to make information easier to read|\n",
    "financials = financials/1000000\n",
    "balance_sheet = balance_sheet/1000000 \n",
    "cashflow = cashflow/1000000"
   ]
  },
  {
   "cell_type": "code",
   "execution_count": 26,
   "metadata": {
    "colab": {
     "base_uri": "https://localhost:8080/",
     "height": 352
    },
    "id": "5w1ZdUfYvS9y",
    "outputId": "a90c6671-35b7-45a5-8bd9-e8d53c9d51a8"
   },
   "outputs": [
    {
     "data": {
      "text/html": [
       "<div>\n",
       "<style scoped>\n",
       "    .dataframe tbody tr th:only-of-type {\n",
       "        vertical-align: middle;\n",
       "    }\n",
       "\n",
       "    .dataframe tbody tr th {\n",
       "        vertical-align: top;\n",
       "    }\n",
       "\n",
       "    .dataframe thead th {\n",
       "        text-align: right;\n",
       "    }\n",
       "</style>\n",
       "<table border=\"1\" class=\"dataframe\">\n",
       "  <thead>\n",
       "    <tr style=\"text-align: right;\">\n",
       "      <th></th>\n",
       "      <th>Research_Development</th>\n",
       "      <th>Effect_Of_Accounting_Charges</th>\n",
       "      <th>Income_Before_Tax</th>\n",
       "      <th>Minority_Interest</th>\n",
       "      <th>Net_Income</th>\n",
       "      <th>Selling_General_Administrative</th>\n",
       "      <th>Gross_Profit</th>\n",
       "      <th>Ebit</th>\n",
       "      <th>Operating_Income</th>\n",
       "      <th>Other_Operating_Expenses</th>\n",
       "      <th>...</th>\n",
       "      <th>Non_Recurring</th>\n",
       "      <th>Other_Items</th>\n",
       "      <th>Income_Tax_Expense</th>\n",
       "      <th>Total_Revenue</th>\n",
       "      <th>Total_Operating_Expenses</th>\n",
       "      <th>Cost_Of_Revenue</th>\n",
       "      <th>Total_Other_Income_Expense_Net</th>\n",
       "      <th>Discontinued_Operations</th>\n",
       "      <th>Net_Income_From_Continuing_Ops</th>\n",
       "      <th>Net_Income_Applicable_To_Common_Shares</th>\n",
       "    </tr>\n",
       "    <tr>\n",
       "      <th></th>\n",
       "      <th></th>\n",
       "      <th></th>\n",
       "      <th></th>\n",
       "      <th></th>\n",
       "      <th></th>\n",
       "      <th></th>\n",
       "      <th></th>\n",
       "      <th></th>\n",
       "      <th></th>\n",
       "      <th></th>\n",
       "      <th></th>\n",
       "      <th></th>\n",
       "      <th></th>\n",
       "      <th></th>\n",
       "      <th></th>\n",
       "      <th></th>\n",
       "      <th></th>\n",
       "      <th></th>\n",
       "      <th></th>\n",
       "      <th></th>\n",
       "      <th></th>\n",
       "    </tr>\n",
       "  </thead>\n",
       "  <tbody>\n",
       "    <tr>\n",
       "      <th>2021-09-25</th>\n",
       "      <td>21914.0</td>\n",
       "      <td>NaN</td>\n",
       "      <td>109207.0</td>\n",
       "      <td>NaN</td>\n",
       "      <td>94680.0</td>\n",
       "      <td>21973.0</td>\n",
       "      <td>152836.0</td>\n",
       "      <td>108949.0</td>\n",
       "      <td>108949.0</td>\n",
       "      <td>NaN</td>\n",
       "      <td>...</td>\n",
       "      <td>NaN</td>\n",
       "      <td>NaN</td>\n",
       "      <td>14527.0</td>\n",
       "      <td>365817.0</td>\n",
       "      <td>256868.0</td>\n",
       "      <td>212981.0</td>\n",
       "      <td>258.0</td>\n",
       "      <td>NaN</td>\n",
       "      <td>94680.0</td>\n",
       "      <td>94680.0</td>\n",
       "    </tr>\n",
       "    <tr>\n",
       "      <th>2020-09-26</th>\n",
       "      <td>18752.0</td>\n",
       "      <td>NaN</td>\n",
       "      <td>67091.0</td>\n",
       "      <td>NaN</td>\n",
       "      <td>57411.0</td>\n",
       "      <td>19916.0</td>\n",
       "      <td>104956.0</td>\n",
       "      <td>66288.0</td>\n",
       "      <td>66288.0</td>\n",
       "      <td>NaN</td>\n",
       "      <td>...</td>\n",
       "      <td>NaN</td>\n",
       "      <td>NaN</td>\n",
       "      <td>9680.0</td>\n",
       "      <td>274515.0</td>\n",
       "      <td>208227.0</td>\n",
       "      <td>169559.0</td>\n",
       "      <td>803.0</td>\n",
       "      <td>NaN</td>\n",
       "      <td>57411.0</td>\n",
       "      <td>57411.0</td>\n",
       "    </tr>\n",
       "    <tr>\n",
       "      <th>2019-09-28</th>\n",
       "      <td>16217.0</td>\n",
       "      <td>NaN</td>\n",
       "      <td>65737.0</td>\n",
       "      <td>NaN</td>\n",
       "      <td>55256.0</td>\n",
       "      <td>18245.0</td>\n",
       "      <td>98392.0</td>\n",
       "      <td>63930.0</td>\n",
       "      <td>63930.0</td>\n",
       "      <td>NaN</td>\n",
       "      <td>...</td>\n",
       "      <td>NaN</td>\n",
       "      <td>NaN</td>\n",
       "      <td>10481.0</td>\n",
       "      <td>260174.0</td>\n",
       "      <td>196244.0</td>\n",
       "      <td>161782.0</td>\n",
       "      <td>1807.0</td>\n",
       "      <td>NaN</td>\n",
       "      <td>55256.0</td>\n",
       "      <td>55256.0</td>\n",
       "    </tr>\n",
       "    <tr>\n",
       "      <th>2018-09-29</th>\n",
       "      <td>14236.0</td>\n",
       "      <td>NaN</td>\n",
       "      <td>72903.0</td>\n",
       "      <td>NaN</td>\n",
       "      <td>59531.0</td>\n",
       "      <td>16705.0</td>\n",
       "      <td>101839.0</td>\n",
       "      <td>70898.0</td>\n",
       "      <td>70898.0</td>\n",
       "      <td>NaN</td>\n",
       "      <td>...</td>\n",
       "      <td>NaN</td>\n",
       "      <td>NaN</td>\n",
       "      <td>13372.0</td>\n",
       "      <td>265595.0</td>\n",
       "      <td>194697.0</td>\n",
       "      <td>163756.0</td>\n",
       "      <td>2005.0</td>\n",
       "      <td>NaN</td>\n",
       "      <td>59531.0</td>\n",
       "      <td>59531.0</td>\n",
       "    </tr>\n",
       "  </tbody>\n",
       "</table>\n",
       "<p>4 rows × 22 columns</p>\n",
       "</div>"
      ],
      "text/plain": [
       "            Research_Development  Effect_Of_Accounting_Charges  \\\n",
       "                                                                 \n",
       "2021-09-25               21914.0                           NaN   \n",
       "2020-09-26               18752.0                           NaN   \n",
       "2019-09-28               16217.0                           NaN   \n",
       "2018-09-29               14236.0                           NaN   \n",
       "\n",
       "            Income_Before_Tax  Minority_Interest  Net_Income  \\\n",
       "                                                               \n",
       "2021-09-25           109207.0                NaN     94680.0   \n",
       "2020-09-26            67091.0                NaN     57411.0   \n",
       "2019-09-28            65737.0                NaN     55256.0   \n",
       "2018-09-29            72903.0                NaN     59531.0   \n",
       "\n",
       "            Selling_General_Administrative  Gross_Profit      Ebit  \\\n",
       "                                                                     \n",
       "2021-09-25                         21973.0      152836.0  108949.0   \n",
       "2020-09-26                         19916.0      104956.0   66288.0   \n",
       "2019-09-28                         18245.0       98392.0   63930.0   \n",
       "2018-09-29                         16705.0      101839.0   70898.0   \n",
       "\n",
       "            Operating_Income  Other_Operating_Expenses  ...  Non_Recurring  \\\n",
       "                                                        ...                  \n",
       "2021-09-25          108949.0                       NaN  ...            NaN   \n",
       "2020-09-26           66288.0                       NaN  ...            NaN   \n",
       "2019-09-28           63930.0                       NaN  ...            NaN   \n",
       "2018-09-29           70898.0                       NaN  ...            NaN   \n",
       "\n",
       "            Other_Items  Income_Tax_Expense  Total_Revenue  \\\n",
       "                                                             \n",
       "2021-09-25          NaN             14527.0       365817.0   \n",
       "2020-09-26          NaN              9680.0       274515.0   \n",
       "2019-09-28          NaN             10481.0       260174.0   \n",
       "2018-09-29          NaN             13372.0       265595.0   \n",
       "\n",
       "            Total_Operating_Expenses  Cost_Of_Revenue  \\\n",
       "                                                        \n",
       "2021-09-25                  256868.0         212981.0   \n",
       "2020-09-26                  208227.0         169559.0   \n",
       "2019-09-28                  196244.0         161782.0   \n",
       "2018-09-29                  194697.0         163756.0   \n",
       "\n",
       "            Total_Other_Income_Expense_Net  Discontinued_Operations  \\\n",
       "                                                                      \n",
       "2021-09-25                           258.0                      NaN   \n",
       "2020-09-26                           803.0                      NaN   \n",
       "2019-09-28                          1807.0                      NaN   \n",
       "2018-09-29                          2005.0                      NaN   \n",
       "\n",
       "            Net_Income_From_Continuing_Ops  \\\n",
       "                                             \n",
       "2021-09-25                         94680.0   \n",
       "2020-09-26                         57411.0   \n",
       "2019-09-28                         55256.0   \n",
       "2018-09-29                         59531.0   \n",
       "\n",
       "            Net_Income_Applicable_To_Common_Shares  \n",
       "                                                    \n",
       "2021-09-25                                 94680.0  \n",
       "2020-09-26                                 57411.0  \n",
       "2019-09-28                                 55256.0  \n",
       "2018-09-29                                 59531.0  \n",
       "\n",
       "[4 rows x 22 columns]"
      ]
     },
     "execution_count": 26,
     "metadata": {},
     "output_type": "execute_result"
    }
   ],
   "source": [
    "financials"
   ]
  },
  {
   "cell_type": "code",
   "execution_count": 27,
   "metadata": {
    "colab": {
     "base_uri": "https://localhost:8080/",
     "height": 352
    },
    "id": "7JzRjzrE8339",
    "outputId": "6c7626bf-0ab4-44fd-f6f7-ec79562ac3a3"
   },
   "outputs": [
    {
     "data": {
      "text/html": [
       "<div>\n",
       "<style scoped>\n",
       "    .dataframe tbody tr th:only-of-type {\n",
       "        vertical-align: middle;\n",
       "    }\n",
       "\n",
       "    .dataframe tbody tr th {\n",
       "        vertical-align: top;\n",
       "    }\n",
       "\n",
       "    .dataframe thead th {\n",
       "        text-align: right;\n",
       "    }\n",
       "</style>\n",
       "<table border=\"1\" class=\"dataframe\">\n",
       "  <thead>\n",
       "    <tr style=\"text-align: right;\">\n",
       "      <th></th>\n",
       "      <th>Total_Liab</th>\n",
       "      <th>Total_Stockholder_Equity</th>\n",
       "      <th>Other_Current_Liab</th>\n",
       "      <th>Total_Assets</th>\n",
       "      <th>Common_Stock</th>\n",
       "      <th>Other_Current_Assets</th>\n",
       "      <th>Retained_Earnings</th>\n",
       "      <th>Other_Liab</th>\n",
       "      <th>Gains_Losses_Not_Affecting_Retained_Earnings</th>\n",
       "      <th>Other_Assets</th>\n",
       "      <th>...</th>\n",
       "      <th>Other_Stockholder_Equity</th>\n",
       "      <th>Property_Plant_Equipment</th>\n",
       "      <th>Total_Current_Assets</th>\n",
       "      <th>Long_Term_Investments</th>\n",
       "      <th>Net_Tangible_Assets</th>\n",
       "      <th>Short_Term_Investments</th>\n",
       "      <th>Net_Receivables</th>\n",
       "      <th>Long_Term_Debt</th>\n",
       "      <th>Inventory</th>\n",
       "      <th>Accounts_Payable</th>\n",
       "    </tr>\n",
       "    <tr>\n",
       "      <th></th>\n",
       "      <th></th>\n",
       "      <th></th>\n",
       "      <th></th>\n",
       "      <th></th>\n",
       "      <th></th>\n",
       "      <th></th>\n",
       "      <th></th>\n",
       "      <th></th>\n",
       "      <th></th>\n",
       "      <th></th>\n",
       "      <th></th>\n",
       "      <th></th>\n",
       "      <th></th>\n",
       "      <th></th>\n",
       "      <th></th>\n",
       "      <th></th>\n",
       "      <th></th>\n",
       "      <th></th>\n",
       "      <th></th>\n",
       "      <th></th>\n",
       "      <th></th>\n",
       "    </tr>\n",
       "  </thead>\n",
       "  <tbody>\n",
       "    <tr>\n",
       "      <th>2021-09-25</th>\n",
       "      <td>287912.0</td>\n",
       "      <td>63090.0</td>\n",
       "      <td>53577.0</td>\n",
       "      <td>351002.0</td>\n",
       "      <td>57365.0</td>\n",
       "      <td>14111.0</td>\n",
       "      <td>5562.0</td>\n",
       "      <td>43050.0</td>\n",
       "      <td>163.0</td>\n",
       "      <td>38762.0</td>\n",
       "      <td>...</td>\n",
       "      <td>163.0</td>\n",
       "      <td>49527.0</td>\n",
       "      <td>134836.0</td>\n",
       "      <td>127877.0</td>\n",
       "      <td>63090.0</td>\n",
       "      <td>27699.0</td>\n",
       "      <td>51506.0</td>\n",
       "      <td>109106.0</td>\n",
       "      <td>6580.0</td>\n",
       "      <td>54763.0</td>\n",
       "    </tr>\n",
       "    <tr>\n",
       "      <th>2020-09-26</th>\n",
       "      <td>258549.0</td>\n",
       "      <td>65339.0</td>\n",
       "      <td>47867.0</td>\n",
       "      <td>323888.0</td>\n",
       "      <td>50779.0</td>\n",
       "      <td>11264.0</td>\n",
       "      <td>14966.0</td>\n",
       "      <td>46108.0</td>\n",
       "      <td>-406.0</td>\n",
       "      <td>33952.0</td>\n",
       "      <td>...</td>\n",
       "      <td>-406.0</td>\n",
       "      <td>45336.0</td>\n",
       "      <td>143713.0</td>\n",
       "      <td>100887.0</td>\n",
       "      <td>65339.0</td>\n",
       "      <td>52927.0</td>\n",
       "      <td>37445.0</td>\n",
       "      <td>98667.0</td>\n",
       "      <td>4061.0</td>\n",
       "      <td>42296.0</td>\n",
       "    </tr>\n",
       "    <tr>\n",
       "      <th>2019-09-28</th>\n",
       "      <td>248028.0</td>\n",
       "      <td>90488.0</td>\n",
       "      <td>43242.0</td>\n",
       "      <td>338516.0</td>\n",
       "      <td>45174.0</td>\n",
       "      <td>12352.0</td>\n",
       "      <td>45898.0</td>\n",
       "      <td>50503.0</td>\n",
       "      <td>-584.0</td>\n",
       "      <td>32978.0</td>\n",
       "      <td>...</td>\n",
       "      <td>-584.0</td>\n",
       "      <td>37378.0</td>\n",
       "      <td>162819.0</td>\n",
       "      <td>105341.0</td>\n",
       "      <td>90488.0</td>\n",
       "      <td>51713.0</td>\n",
       "      <td>45804.0</td>\n",
       "      <td>91807.0</td>\n",
       "      <td>4106.0</td>\n",
       "      <td>46236.0</td>\n",
       "    </tr>\n",
       "    <tr>\n",
       "      <th>2018-09-29</th>\n",
       "      <td>258578.0</td>\n",
       "      <td>107147.0</td>\n",
       "      <td>39293.0</td>\n",
       "      <td>365725.0</td>\n",
       "      <td>40201.0</td>\n",
       "      <td>12087.0</td>\n",
       "      <td>70400.0</td>\n",
       "      <td>48914.0</td>\n",
       "      <td>-3454.0</td>\n",
       "      <td>22283.0</td>\n",
       "      <td>...</td>\n",
       "      <td>-3454.0</td>\n",
       "      <td>41304.0</td>\n",
       "      <td>131339.0</td>\n",
       "      <td>170799.0</td>\n",
       "      <td>107147.0</td>\n",
       "      <td>40388.0</td>\n",
       "      <td>48995.0</td>\n",
       "      <td>93735.0</td>\n",
       "      <td>3956.0</td>\n",
       "      <td>55888.0</td>\n",
       "    </tr>\n",
       "  </tbody>\n",
       "</table>\n",
       "<p>4 rows × 23 columns</p>\n",
       "</div>"
      ],
      "text/plain": [
       "            Total_Liab  Total_Stockholder_Equity  Other_Current_Liab  \\\n",
       "                                                                       \n",
       "2021-09-25    287912.0                   63090.0             53577.0   \n",
       "2020-09-26    258549.0                   65339.0             47867.0   \n",
       "2019-09-28    248028.0                   90488.0             43242.0   \n",
       "2018-09-29    258578.0                  107147.0             39293.0   \n",
       "\n",
       "            Total_Assets  Common_Stock  Other_Current_Assets  \\\n",
       "                                                               \n",
       "2021-09-25      351002.0       57365.0               14111.0   \n",
       "2020-09-26      323888.0       50779.0               11264.0   \n",
       "2019-09-28      338516.0       45174.0               12352.0   \n",
       "2018-09-29      365725.0       40201.0               12087.0   \n",
       "\n",
       "            Retained_Earnings  Other_Liab  \\\n",
       "                                            \n",
       "2021-09-25             5562.0     43050.0   \n",
       "2020-09-26            14966.0     46108.0   \n",
       "2019-09-28            45898.0     50503.0   \n",
       "2018-09-29            70400.0     48914.0   \n",
       "\n",
       "            Gains_Losses_Not_Affecting_Retained_Earnings  Other_Assets  ...  \\\n",
       "                                                                        ...   \n",
       "2021-09-25                                         163.0       38762.0  ...   \n",
       "2020-09-26                                        -406.0       33952.0  ...   \n",
       "2019-09-28                                        -584.0       32978.0  ...   \n",
       "2018-09-29                                       -3454.0       22283.0  ...   \n",
       "\n",
       "            Other_Stockholder_Equity  Property_Plant_Equipment  \\\n",
       "                                                                 \n",
       "2021-09-25                     163.0                   49527.0   \n",
       "2020-09-26                    -406.0                   45336.0   \n",
       "2019-09-28                    -584.0                   37378.0   \n",
       "2018-09-29                   -3454.0                   41304.0   \n",
       "\n",
       "            Total_Current_Assets  Long_Term_Investments  Net_Tangible_Assets  \\\n",
       "                                                                               \n",
       "2021-09-25              134836.0               127877.0              63090.0   \n",
       "2020-09-26              143713.0               100887.0              65339.0   \n",
       "2019-09-28              162819.0               105341.0              90488.0   \n",
       "2018-09-29              131339.0               170799.0             107147.0   \n",
       "\n",
       "            Short_Term_Investments  Net_Receivables  Long_Term_Debt  \\\n",
       "                                                                      \n",
       "2021-09-25                 27699.0          51506.0        109106.0   \n",
       "2020-09-26                 52927.0          37445.0         98667.0   \n",
       "2019-09-28                 51713.0          45804.0         91807.0   \n",
       "2018-09-29                 40388.0          48995.0         93735.0   \n",
       "\n",
       "            Inventory  Accounts_Payable  \n",
       "                                         \n",
       "2021-09-25     6580.0           54763.0  \n",
       "2020-09-26     4061.0           42296.0  \n",
       "2019-09-28     4106.0           46236.0  \n",
       "2018-09-29     3956.0           55888.0  \n",
       "\n",
       "[4 rows x 23 columns]"
      ]
     },
     "execution_count": 27,
     "metadata": {},
     "output_type": "execute_result"
    }
   ],
   "source": [
    "balance_sheet"
   ]
  },
  {
   "cell_type": "code",
   "execution_count": 28,
   "metadata": {
    "colab": {
     "base_uri": "https://localhost:8080/",
     "height": 392
    },
    "id": "oSNTDzio_dEV",
    "outputId": "84b6fb8d-f3db-4fd2-d893-7dfbfe83ffad"
   },
   "outputs": [
    {
     "data": {
      "text/html": [
       "<div>\n",
       "<style scoped>\n",
       "    .dataframe tbody tr th:only-of-type {\n",
       "        vertical-align: middle;\n",
       "    }\n",
       "\n",
       "    .dataframe tbody tr th {\n",
       "        vertical-align: top;\n",
       "    }\n",
       "\n",
       "    .dataframe thead th {\n",
       "        text-align: right;\n",
       "    }\n",
       "</style>\n",
       "<table border=\"1\" class=\"dataframe\">\n",
       "  <thead>\n",
       "    <tr style=\"text-align: right;\">\n",
       "      <th></th>\n",
       "      <th>Investments</th>\n",
       "      <th>Change_To_Liabilities</th>\n",
       "      <th>Total_Cashflows_From_Investing_Activities</th>\n",
       "      <th>Net_Borrowings</th>\n",
       "      <th>Total_Cash_From_Financing_Activities</th>\n",
       "      <th>Change_To_Operating_Activities</th>\n",
       "      <th>Issuance_Of_Stock</th>\n",
       "      <th>Net_Income</th>\n",
       "      <th>Change_In_Cash</th>\n",
       "      <th>Repurchase_Of_Stock</th>\n",
       "      <th>Total_Cash_From_Operating_Activities</th>\n",
       "      <th>Depreciation</th>\n",
       "      <th>Other_Cashflows_From_Investing_Activities</th>\n",
       "      <th>Dividends_Paid</th>\n",
       "      <th>Change_To_Inventory</th>\n",
       "      <th>Change_To_Account_Receivables</th>\n",
       "      <th>Other_Cashflows_From_Financing_Activities</th>\n",
       "      <th>Change_To_Netincome</th>\n",
       "      <th>Capital_Expenditures</th>\n",
       "    </tr>\n",
       "    <tr>\n",
       "      <th></th>\n",
       "      <th></th>\n",
       "      <th></th>\n",
       "      <th></th>\n",
       "      <th></th>\n",
       "      <th></th>\n",
       "      <th></th>\n",
       "      <th></th>\n",
       "      <th></th>\n",
       "      <th></th>\n",
       "      <th></th>\n",
       "      <th></th>\n",
       "      <th></th>\n",
       "      <th></th>\n",
       "      <th></th>\n",
       "      <th></th>\n",
       "      <th></th>\n",
       "      <th></th>\n",
       "      <th></th>\n",
       "      <th></th>\n",
       "    </tr>\n",
       "  </thead>\n",
       "  <tbody>\n",
       "    <tr>\n",
       "      <th>2021-09-25</th>\n",
       "      <td>-2819.0</td>\n",
       "      <td>14002.0</td>\n",
       "      <td>-14545.0</td>\n",
       "      <td>12665.0</td>\n",
       "      <td>-93353.0</td>\n",
       "      <td>-6146.0</td>\n",
       "      <td>1105.0</td>\n",
       "      <td>94680.0</td>\n",
       "      <td>-3860.0</td>\n",
       "      <td>-92527.0</td>\n",
       "      <td>104038.0</td>\n",
       "      <td>11284.0</td>\n",
       "      <td>-608.0</td>\n",
       "      <td>-14467.0</td>\n",
       "      <td>-2642.0</td>\n",
       "      <td>-10125.0</td>\n",
       "      <td>-129.0</td>\n",
       "      <td>2985.0</td>\n",
       "      <td>-11085.0</td>\n",
       "    </tr>\n",
       "    <tr>\n",
       "      <th>2020-09-26</th>\n",
       "      <td>5335.0</td>\n",
       "      <td>-1981.0</td>\n",
       "      <td>-4289.0</td>\n",
       "      <td>2499.0</td>\n",
       "      <td>-86820.0</td>\n",
       "      <td>881.0</td>\n",
       "      <td>880.0</td>\n",
       "      <td>57411.0</td>\n",
       "      <td>-10435.0</td>\n",
       "      <td>-75992.0</td>\n",
       "      <td>80674.0</td>\n",
       "      <td>11056.0</td>\n",
       "      <td>-791.0</td>\n",
       "      <td>-14081.0</td>\n",
       "      <td>-127.0</td>\n",
       "      <td>6917.0</td>\n",
       "      <td>-126.0</td>\n",
       "      <td>6517.0</td>\n",
       "      <td>-7309.0</td>\n",
       "    </tr>\n",
       "    <tr>\n",
       "      <th>2019-09-28</th>\n",
       "      <td>58093.0</td>\n",
       "      <td>-2548.0</td>\n",
       "      <td>45896.0</td>\n",
       "      <td>-7819.0</td>\n",
       "      <td>-90976.0</td>\n",
       "      <td>-896.0</td>\n",
       "      <td>781.0</td>\n",
       "      <td>55256.0</td>\n",
       "      <td>24311.0</td>\n",
       "      <td>-69714.0</td>\n",
       "      <td>69391.0</td>\n",
       "      <td>12547.0</td>\n",
       "      <td>-1078.0</td>\n",
       "      <td>-14119.0</td>\n",
       "      <td>-289.0</td>\n",
       "      <td>245.0</td>\n",
       "      <td>-105.0</td>\n",
       "      <td>5076.0</td>\n",
       "      <td>-10495.0</td>\n",
       "    </tr>\n",
       "    <tr>\n",
       "      <th>2018-09-29</th>\n",
       "      <td>30845.0</td>\n",
       "      <td>9172.0</td>\n",
       "      <td>16066.0</td>\n",
       "      <td>432.0</td>\n",
       "      <td>-87876.0</td>\n",
       "      <td>30016.0</td>\n",
       "      <td>669.0</td>\n",
       "      <td>59531.0</td>\n",
       "      <td>5624.0</td>\n",
       "      <td>-75265.0</td>\n",
       "      <td>77434.0</td>\n",
       "      <td>10903.0</td>\n",
       "      <td>-745.0</td>\n",
       "      <td>-13712.0</td>\n",
       "      <td>828.0</td>\n",
       "      <td>-5322.0</td>\n",
       "      <td>-105.0</td>\n",
       "      <td>-27694.0</td>\n",
       "      <td>-13313.0</td>\n",
       "    </tr>\n",
       "  </tbody>\n",
       "</table>\n",
       "</div>"
      ],
      "text/plain": [
       "            Investments  Change_To_Liabilities  \\\n",
       "                                                 \n",
       "2021-09-25      -2819.0                14002.0   \n",
       "2020-09-26       5335.0                -1981.0   \n",
       "2019-09-28      58093.0                -2548.0   \n",
       "2018-09-29      30845.0                 9172.0   \n",
       "\n",
       "            Total_Cashflows_From_Investing_Activities  Net_Borrowings  \\\n",
       "                                                                        \n",
       "2021-09-25                                   -14545.0         12665.0   \n",
       "2020-09-26                                    -4289.0          2499.0   \n",
       "2019-09-28                                    45896.0         -7819.0   \n",
       "2018-09-29                                    16066.0           432.0   \n",
       "\n",
       "            Total_Cash_From_Financing_Activities  \\\n",
       "                                                   \n",
       "2021-09-25                              -93353.0   \n",
       "2020-09-26                              -86820.0   \n",
       "2019-09-28                              -90976.0   \n",
       "2018-09-29                              -87876.0   \n",
       "\n",
       "            Change_To_Operating_Activities  Issuance_Of_Stock  Net_Income  \\\n",
       "                                                                            \n",
       "2021-09-25                         -6146.0             1105.0     94680.0   \n",
       "2020-09-26                           881.0              880.0     57411.0   \n",
       "2019-09-28                          -896.0              781.0     55256.0   \n",
       "2018-09-29                         30016.0              669.0     59531.0   \n",
       "\n",
       "            Change_In_Cash  Repurchase_Of_Stock  \\\n",
       "                                                  \n",
       "2021-09-25         -3860.0             -92527.0   \n",
       "2020-09-26        -10435.0             -75992.0   \n",
       "2019-09-28         24311.0             -69714.0   \n",
       "2018-09-29          5624.0             -75265.0   \n",
       "\n",
       "            Total_Cash_From_Operating_Activities  Depreciation  \\\n",
       "                                                                 \n",
       "2021-09-25                              104038.0       11284.0   \n",
       "2020-09-26                               80674.0       11056.0   \n",
       "2019-09-28                               69391.0       12547.0   \n",
       "2018-09-29                               77434.0       10903.0   \n",
       "\n",
       "            Other_Cashflows_From_Investing_Activities  Dividends_Paid  \\\n",
       "                                                                        \n",
       "2021-09-25                                     -608.0        -14467.0   \n",
       "2020-09-26                                     -791.0        -14081.0   \n",
       "2019-09-28                                    -1078.0        -14119.0   \n",
       "2018-09-29                                     -745.0        -13712.0   \n",
       "\n",
       "            Change_To_Inventory  Change_To_Account_Receivables  \\\n",
       "                                                                 \n",
       "2021-09-25              -2642.0                       -10125.0   \n",
       "2020-09-26               -127.0                         6917.0   \n",
       "2019-09-28               -289.0                          245.0   \n",
       "2018-09-29                828.0                        -5322.0   \n",
       "\n",
       "            Other_Cashflows_From_Financing_Activities  Change_To_Netincome  \\\n",
       "                                                                             \n",
       "2021-09-25                                     -129.0               2985.0   \n",
       "2020-09-26                                     -126.0               6517.0   \n",
       "2019-09-28                                     -105.0               5076.0   \n",
       "2018-09-29                                     -105.0             -27694.0   \n",
       "\n",
       "            Capital_Expenditures  \n",
       "                                  \n",
       "2021-09-25              -11085.0  \n",
       "2020-09-26               -7309.0  \n",
       "2019-09-28              -10495.0  \n",
       "2018-09-29              -13313.0  "
      ]
     },
     "execution_count": 28,
     "metadata": {},
     "output_type": "execute_result"
    }
   ],
   "source": [
    "cashflow"
   ]
  },
  {
   "cell_type": "code",
   "execution_count": 29,
   "metadata": {
    "id": "tKjGQlJe3ZgC"
   },
   "outputs": [],
   "source": [
    "#merging balance_sheet and income statement\n",
    "master = pd.merge(financials, balance_sheet, left_index=True, right_index=True)"
   ]
  },
  {
   "cell_type": "code",
   "execution_count": 30,
   "metadata": {
    "id": "ZqGJ88rr-P6o"
   },
   "outputs": [],
   "source": [
    "#meeging balance sheet, income statement and cashflow statement\n",
    "master = pd.merge(master,cashflow,left_index=True, right_index=True)"
   ]
  },
  {
   "cell_type": "code",
   "execution_count": 31,
   "metadata": {
    "colab": {
     "base_uri": "https://localhost:8080/",
     "height": 421
    },
    "id": "MD2w5_gm_845",
    "outputId": "de6e6c43-a099-4d08-fd8d-1f0e3d983a5a"
   },
   "outputs": [
    {
     "data": {
      "text/html": [
       "<div>\n",
       "<style scoped>\n",
       "    .dataframe tbody tr th:only-of-type {\n",
       "        vertical-align: middle;\n",
       "    }\n",
       "\n",
       "    .dataframe tbody tr th {\n",
       "        vertical-align: top;\n",
       "    }\n",
       "\n",
       "    .dataframe thead th {\n",
       "        text-align: right;\n",
       "    }\n",
       "</style>\n",
       "<table border=\"1\" class=\"dataframe\">\n",
       "  <thead>\n",
       "    <tr style=\"text-align: right;\">\n",
       "      <th></th>\n",
       "      <th>Research_Development</th>\n",
       "      <th>Effect_Of_Accounting_Charges</th>\n",
       "      <th>Income_Before_Tax</th>\n",
       "      <th>Minority_Interest</th>\n",
       "      <th>Net_Income_x</th>\n",
       "      <th>Selling_General_Administrative</th>\n",
       "      <th>Gross_Profit</th>\n",
       "      <th>Ebit</th>\n",
       "      <th>Operating_Income</th>\n",
       "      <th>Other_Operating_Expenses</th>\n",
       "      <th>...</th>\n",
       "      <th>Repurchase_Of_Stock</th>\n",
       "      <th>Total_Cash_From_Operating_Activities</th>\n",
       "      <th>Depreciation</th>\n",
       "      <th>Other_Cashflows_From_Investing_Activities</th>\n",
       "      <th>Dividends_Paid</th>\n",
       "      <th>Change_To_Inventory</th>\n",
       "      <th>Change_To_Account_Receivables</th>\n",
       "      <th>Other_Cashflows_From_Financing_Activities</th>\n",
       "      <th>Change_To_Netincome</th>\n",
       "      <th>Capital_Expenditures</th>\n",
       "    </tr>\n",
       "    <tr>\n",
       "      <th></th>\n",
       "      <th></th>\n",
       "      <th></th>\n",
       "      <th></th>\n",
       "      <th></th>\n",
       "      <th></th>\n",
       "      <th></th>\n",
       "      <th></th>\n",
       "      <th></th>\n",
       "      <th></th>\n",
       "      <th></th>\n",
       "      <th></th>\n",
       "      <th></th>\n",
       "      <th></th>\n",
       "      <th></th>\n",
       "      <th></th>\n",
       "      <th></th>\n",
       "      <th></th>\n",
       "      <th></th>\n",
       "      <th></th>\n",
       "      <th></th>\n",
       "      <th></th>\n",
       "    </tr>\n",
       "  </thead>\n",
       "  <tbody>\n",
       "    <tr>\n",
       "      <th>2021-09-25</th>\n",
       "      <td>21914.0</td>\n",
       "      <td>NaN</td>\n",
       "      <td>109207.0</td>\n",
       "      <td>NaN</td>\n",
       "      <td>94680.0</td>\n",
       "      <td>21973.0</td>\n",
       "      <td>152836.0</td>\n",
       "      <td>108949.0</td>\n",
       "      <td>108949.0</td>\n",
       "      <td>NaN</td>\n",
       "      <td>...</td>\n",
       "      <td>-92527.0</td>\n",
       "      <td>104038.0</td>\n",
       "      <td>11284.0</td>\n",
       "      <td>-608.0</td>\n",
       "      <td>-14467.0</td>\n",
       "      <td>-2642.0</td>\n",
       "      <td>-10125.0</td>\n",
       "      <td>-129.0</td>\n",
       "      <td>2985.0</td>\n",
       "      <td>-11085.0</td>\n",
       "    </tr>\n",
       "    <tr>\n",
       "      <th>2020-09-26</th>\n",
       "      <td>18752.0</td>\n",
       "      <td>NaN</td>\n",
       "      <td>67091.0</td>\n",
       "      <td>NaN</td>\n",
       "      <td>57411.0</td>\n",
       "      <td>19916.0</td>\n",
       "      <td>104956.0</td>\n",
       "      <td>66288.0</td>\n",
       "      <td>66288.0</td>\n",
       "      <td>NaN</td>\n",
       "      <td>...</td>\n",
       "      <td>-75992.0</td>\n",
       "      <td>80674.0</td>\n",
       "      <td>11056.0</td>\n",
       "      <td>-791.0</td>\n",
       "      <td>-14081.0</td>\n",
       "      <td>-127.0</td>\n",
       "      <td>6917.0</td>\n",
       "      <td>-126.0</td>\n",
       "      <td>6517.0</td>\n",
       "      <td>-7309.0</td>\n",
       "    </tr>\n",
       "    <tr>\n",
       "      <th>2019-09-28</th>\n",
       "      <td>16217.0</td>\n",
       "      <td>NaN</td>\n",
       "      <td>65737.0</td>\n",
       "      <td>NaN</td>\n",
       "      <td>55256.0</td>\n",
       "      <td>18245.0</td>\n",
       "      <td>98392.0</td>\n",
       "      <td>63930.0</td>\n",
       "      <td>63930.0</td>\n",
       "      <td>NaN</td>\n",
       "      <td>...</td>\n",
       "      <td>-69714.0</td>\n",
       "      <td>69391.0</td>\n",
       "      <td>12547.0</td>\n",
       "      <td>-1078.0</td>\n",
       "      <td>-14119.0</td>\n",
       "      <td>-289.0</td>\n",
       "      <td>245.0</td>\n",
       "      <td>-105.0</td>\n",
       "      <td>5076.0</td>\n",
       "      <td>-10495.0</td>\n",
       "    </tr>\n",
       "    <tr>\n",
       "      <th>2018-09-29</th>\n",
       "      <td>14236.0</td>\n",
       "      <td>NaN</td>\n",
       "      <td>72903.0</td>\n",
       "      <td>NaN</td>\n",
       "      <td>59531.0</td>\n",
       "      <td>16705.0</td>\n",
       "      <td>101839.0</td>\n",
       "      <td>70898.0</td>\n",
       "      <td>70898.0</td>\n",
       "      <td>NaN</td>\n",
       "      <td>...</td>\n",
       "      <td>-75265.0</td>\n",
       "      <td>77434.0</td>\n",
       "      <td>10903.0</td>\n",
       "      <td>-745.0</td>\n",
       "      <td>-13712.0</td>\n",
       "      <td>828.0</td>\n",
       "      <td>-5322.0</td>\n",
       "      <td>-105.0</td>\n",
       "      <td>-27694.0</td>\n",
       "      <td>-13313.0</td>\n",
       "    </tr>\n",
       "  </tbody>\n",
       "</table>\n",
       "<p>4 rows × 64 columns</p>\n",
       "</div>"
      ],
      "text/plain": [
       "            Research_Development  Effect_Of_Accounting_Charges  \\\n",
       "                                                                 \n",
       "2021-09-25               21914.0                           NaN   \n",
       "2020-09-26               18752.0                           NaN   \n",
       "2019-09-28               16217.0                           NaN   \n",
       "2018-09-29               14236.0                           NaN   \n",
       "\n",
       "            Income_Before_Tax  Minority_Interest  Net_Income_x  \\\n",
       "                                                                 \n",
       "2021-09-25           109207.0                NaN       94680.0   \n",
       "2020-09-26            67091.0                NaN       57411.0   \n",
       "2019-09-28            65737.0                NaN       55256.0   \n",
       "2018-09-29            72903.0                NaN       59531.0   \n",
       "\n",
       "            Selling_General_Administrative  Gross_Profit      Ebit  \\\n",
       "                                                                     \n",
       "2021-09-25                         21973.0      152836.0  108949.0   \n",
       "2020-09-26                         19916.0      104956.0   66288.0   \n",
       "2019-09-28                         18245.0       98392.0   63930.0   \n",
       "2018-09-29                         16705.0      101839.0   70898.0   \n",
       "\n",
       "            Operating_Income  Other_Operating_Expenses  ...  \\\n",
       "                                                        ...   \n",
       "2021-09-25          108949.0                       NaN  ...   \n",
       "2020-09-26           66288.0                       NaN  ...   \n",
       "2019-09-28           63930.0                       NaN  ...   \n",
       "2018-09-29           70898.0                       NaN  ...   \n",
       "\n",
       "            Repurchase_Of_Stock  Total_Cash_From_Operating_Activities  \\\n",
       "                                                                        \n",
       "2021-09-25             -92527.0                              104038.0   \n",
       "2020-09-26             -75992.0                               80674.0   \n",
       "2019-09-28             -69714.0                               69391.0   \n",
       "2018-09-29             -75265.0                               77434.0   \n",
       "\n",
       "            Depreciation  Other_Cashflows_From_Investing_Activities  \\\n",
       "                                                                      \n",
       "2021-09-25       11284.0                                     -608.0   \n",
       "2020-09-26       11056.0                                     -791.0   \n",
       "2019-09-28       12547.0                                    -1078.0   \n",
       "2018-09-29       10903.0                                     -745.0   \n",
       "\n",
       "            Dividends_Paid  Change_To_Inventory  \\\n",
       "                                                  \n",
       "2021-09-25        -14467.0              -2642.0   \n",
       "2020-09-26        -14081.0               -127.0   \n",
       "2019-09-28        -14119.0               -289.0   \n",
       "2018-09-29        -13712.0                828.0   \n",
       "\n",
       "            Change_To_Account_Receivables  \\\n",
       "                                            \n",
       "2021-09-25                       -10125.0   \n",
       "2020-09-26                         6917.0   \n",
       "2019-09-28                          245.0   \n",
       "2018-09-29                        -5322.0   \n",
       "\n",
       "            Other_Cashflows_From_Financing_Activities  Change_To_Netincome  \\\n",
       "                                                                             \n",
       "2021-09-25                                     -129.0               2985.0   \n",
       "2020-09-26                                     -126.0               6517.0   \n",
       "2019-09-28                                     -105.0               5076.0   \n",
       "2018-09-29                                     -105.0             -27694.0   \n",
       "\n",
       "            Capital_Expenditures  \n",
       "                                  \n",
       "2021-09-25              -11085.0  \n",
       "2020-09-26               -7309.0  \n",
       "2019-09-28              -10495.0  \n",
       "2018-09-29              -13313.0  \n",
       "\n",
       "[4 rows x 64 columns]"
      ]
     },
     "execution_count": 31,
     "metadata": {},
     "output_type": "execute_result"
    }
   ],
   "source": [
    "#inspecting merge \n",
    "master"
   ]
  },
  {
   "cell_type": "code",
   "execution_count": 32,
   "metadata": {
    "colab": {
     "base_uri": "https://localhost:8080/"
    },
    "id": "ZhJ_4UyRxQVX",
    "outputId": "db53d964-0cb1-463a-bce8-f96543b5dee4"
   },
   "outputs": [
    {
     "data": {
      "text/plain": [
       "Research_Development                         0\n",
       "Effect_Of_Accounting_Charges                 4\n",
       "Income_Before_Tax                            0\n",
       "Minority_Interest                            4\n",
       "Net_Income_x                                 0\n",
       "                                            ..\n",
       "Change_To_Inventory                          0\n",
       "Change_To_Account_Receivables                0\n",
       "Other_Cashflows_From_Financing_Activities    0\n",
       "Change_To_Netincome                          0\n",
       "Capital_Expenditures                         0\n",
       "Length: 64, dtype: int64"
      ]
     },
     "execution_count": 32,
     "metadata": {},
     "output_type": "execute_result"
    }
   ],
   "source": [
    "master.isnull().sum() #inspecting null values"
   ]
  },
  {
   "cell_type": "markdown",
   "metadata": {
    "id": "B07ik6jmZPBe"
   },
   "source": [
    "From the output above, we can see that the following columns have null values, this is not an exhaustive list of the null columns.\n",
    "\n",
    "1. Effect of Accounting Charges\n",
    "2. Minority Interest\n",
    "3. Other Operating Expenses\n",
    "4. Extraordinary Items\n",
    "5. Non Recurring\n",
    "6. Other Items\n",
    "7. Discontinued Operations\n",
    "\n",
    "I will be replacing null values with 0's."
   ]
  },
  {
   "cell_type": "code",
   "execution_count": 33,
   "metadata": {
    "id": "pd_wV5rI2I0B"
   },
   "outputs": [],
   "source": [
    "#filling null values with 0\n",
    "master.fillna(0,inplace=True) "
   ]
  },
  {
   "cell_type": "code",
   "execution_count": 34,
   "metadata": {
    "colab": {
     "base_uri": "https://localhost:8080/",
     "height": 416
    },
    "id": "LFUP-kEj4JJF",
    "outputId": "2d15cc65-0dd1-49e0-ca88-97ebc7b376de"
   },
   "outputs": [
    {
     "data": {
      "text/html": [
       "<div>\n",
       "<style scoped>\n",
       "    .dataframe tbody tr th:only-of-type {\n",
       "        vertical-align: middle;\n",
       "    }\n",
       "\n",
       "    .dataframe tbody tr th {\n",
       "        vertical-align: top;\n",
       "    }\n",
       "\n",
       "    .dataframe thead th {\n",
       "        text-align: right;\n",
       "    }\n",
       "</style>\n",
       "<table border=\"1\" class=\"dataframe\">\n",
       "  <thead>\n",
       "    <tr style=\"text-align: right;\">\n",
       "      <th></th>\n",
       "      <th>Research_Development</th>\n",
       "      <th>Effect_Of_Accounting_Charges</th>\n",
       "      <th>Income_Before_Tax</th>\n",
       "      <th>Minority_Interest</th>\n",
       "      <th>Net_Income_x</th>\n",
       "      <th>Selling_General_Administrative</th>\n",
       "      <th>Gross_Profit</th>\n",
       "      <th>Ebit</th>\n",
       "      <th>Operating_Income</th>\n",
       "      <th>Other_Operating_Expenses</th>\n",
       "      <th>...</th>\n",
       "      <th>Repurchase_Of_Stock</th>\n",
       "      <th>Total_Cash_From_Operating_Activities</th>\n",
       "      <th>Depreciation</th>\n",
       "      <th>Other_Cashflows_From_Investing_Activities</th>\n",
       "      <th>Dividends_Paid</th>\n",
       "      <th>Change_To_Inventory</th>\n",
       "      <th>Change_To_Account_Receivables</th>\n",
       "      <th>Other_Cashflows_From_Financing_Activities</th>\n",
       "      <th>Change_To_Netincome</th>\n",
       "      <th>Capital_Expenditures</th>\n",
       "    </tr>\n",
       "    <tr>\n",
       "      <th></th>\n",
       "      <th></th>\n",
       "      <th></th>\n",
       "      <th></th>\n",
       "      <th></th>\n",
       "      <th></th>\n",
       "      <th></th>\n",
       "      <th></th>\n",
       "      <th></th>\n",
       "      <th></th>\n",
       "      <th></th>\n",
       "      <th></th>\n",
       "      <th></th>\n",
       "      <th></th>\n",
       "      <th></th>\n",
       "      <th></th>\n",
       "      <th></th>\n",
       "      <th></th>\n",
       "      <th></th>\n",
       "      <th></th>\n",
       "      <th></th>\n",
       "      <th></th>\n",
       "    </tr>\n",
       "  </thead>\n",
       "  <tbody>\n",
       "    <tr>\n",
       "      <th>2021-09-25</th>\n",
       "      <td>21914.0</td>\n",
       "      <td>0.0</td>\n",
       "      <td>109207.0</td>\n",
       "      <td>0.0</td>\n",
       "      <td>94680.0</td>\n",
       "      <td>21973.0</td>\n",
       "      <td>152836.0</td>\n",
       "      <td>108949.0</td>\n",
       "      <td>108949.0</td>\n",
       "      <td>0.0</td>\n",
       "      <td>...</td>\n",
       "      <td>-92527.0</td>\n",
       "      <td>104038.0</td>\n",
       "      <td>11284.0</td>\n",
       "      <td>-608.0</td>\n",
       "      <td>-14467.0</td>\n",
       "      <td>-2642.0</td>\n",
       "      <td>-10125.0</td>\n",
       "      <td>-129.0</td>\n",
       "      <td>2985.0</td>\n",
       "      <td>-11085.0</td>\n",
       "    </tr>\n",
       "    <tr>\n",
       "      <th>2020-09-26</th>\n",
       "      <td>18752.0</td>\n",
       "      <td>0.0</td>\n",
       "      <td>67091.0</td>\n",
       "      <td>0.0</td>\n",
       "      <td>57411.0</td>\n",
       "      <td>19916.0</td>\n",
       "      <td>104956.0</td>\n",
       "      <td>66288.0</td>\n",
       "      <td>66288.0</td>\n",
       "      <td>0.0</td>\n",
       "      <td>...</td>\n",
       "      <td>-75992.0</td>\n",
       "      <td>80674.0</td>\n",
       "      <td>11056.0</td>\n",
       "      <td>-791.0</td>\n",
       "      <td>-14081.0</td>\n",
       "      <td>-127.0</td>\n",
       "      <td>6917.0</td>\n",
       "      <td>-126.0</td>\n",
       "      <td>6517.0</td>\n",
       "      <td>-7309.0</td>\n",
       "    </tr>\n",
       "    <tr>\n",
       "      <th>2019-09-28</th>\n",
       "      <td>16217.0</td>\n",
       "      <td>0.0</td>\n",
       "      <td>65737.0</td>\n",
       "      <td>0.0</td>\n",
       "      <td>55256.0</td>\n",
       "      <td>18245.0</td>\n",
       "      <td>98392.0</td>\n",
       "      <td>63930.0</td>\n",
       "      <td>63930.0</td>\n",
       "      <td>0.0</td>\n",
       "      <td>...</td>\n",
       "      <td>-69714.0</td>\n",
       "      <td>69391.0</td>\n",
       "      <td>12547.0</td>\n",
       "      <td>-1078.0</td>\n",
       "      <td>-14119.0</td>\n",
       "      <td>-289.0</td>\n",
       "      <td>245.0</td>\n",
       "      <td>-105.0</td>\n",
       "      <td>5076.0</td>\n",
       "      <td>-10495.0</td>\n",
       "    </tr>\n",
       "    <tr>\n",
       "      <th>2018-09-29</th>\n",
       "      <td>14236.0</td>\n",
       "      <td>0.0</td>\n",
       "      <td>72903.0</td>\n",
       "      <td>0.0</td>\n",
       "      <td>59531.0</td>\n",
       "      <td>16705.0</td>\n",
       "      <td>101839.0</td>\n",
       "      <td>70898.0</td>\n",
       "      <td>70898.0</td>\n",
       "      <td>0.0</td>\n",
       "      <td>...</td>\n",
       "      <td>-75265.0</td>\n",
       "      <td>77434.0</td>\n",
       "      <td>10903.0</td>\n",
       "      <td>-745.0</td>\n",
       "      <td>-13712.0</td>\n",
       "      <td>828.0</td>\n",
       "      <td>-5322.0</td>\n",
       "      <td>-105.0</td>\n",
       "      <td>-27694.0</td>\n",
       "      <td>-13313.0</td>\n",
       "    </tr>\n",
       "  </tbody>\n",
       "</table>\n",
       "<p>4 rows × 64 columns</p>\n",
       "</div>"
      ],
      "text/plain": [
       "            Research_Development  Effect_Of_Accounting_Charges  \\\n",
       "                                                                 \n",
       "2021-09-25               21914.0                           0.0   \n",
       "2020-09-26               18752.0                           0.0   \n",
       "2019-09-28               16217.0                           0.0   \n",
       "2018-09-29               14236.0                           0.0   \n",
       "\n",
       "            Income_Before_Tax  Minority_Interest  Net_Income_x  \\\n",
       "                                                                 \n",
       "2021-09-25           109207.0                0.0       94680.0   \n",
       "2020-09-26            67091.0                0.0       57411.0   \n",
       "2019-09-28            65737.0                0.0       55256.0   \n",
       "2018-09-29            72903.0                0.0       59531.0   \n",
       "\n",
       "            Selling_General_Administrative  Gross_Profit      Ebit  \\\n",
       "                                                                     \n",
       "2021-09-25                         21973.0      152836.0  108949.0   \n",
       "2020-09-26                         19916.0      104956.0   66288.0   \n",
       "2019-09-28                         18245.0       98392.0   63930.0   \n",
       "2018-09-29                         16705.0      101839.0   70898.0   \n",
       "\n",
       "            Operating_Income  Other_Operating_Expenses  ...  \\\n",
       "                                                        ...   \n",
       "2021-09-25          108949.0                       0.0  ...   \n",
       "2020-09-26           66288.0                       0.0  ...   \n",
       "2019-09-28           63930.0                       0.0  ...   \n",
       "2018-09-29           70898.0                       0.0  ...   \n",
       "\n",
       "            Repurchase_Of_Stock  Total_Cash_From_Operating_Activities  \\\n",
       "                                                                        \n",
       "2021-09-25             -92527.0                              104038.0   \n",
       "2020-09-26             -75992.0                               80674.0   \n",
       "2019-09-28             -69714.0                               69391.0   \n",
       "2018-09-29             -75265.0                               77434.0   \n",
       "\n",
       "            Depreciation  Other_Cashflows_From_Investing_Activities  \\\n",
       "                                                                      \n",
       "2021-09-25       11284.0                                     -608.0   \n",
       "2020-09-26       11056.0                                     -791.0   \n",
       "2019-09-28       12547.0                                    -1078.0   \n",
       "2018-09-29       10903.0                                     -745.0   \n",
       "\n",
       "            Dividends_Paid  Change_To_Inventory  \\\n",
       "                                                  \n",
       "2021-09-25        -14467.0              -2642.0   \n",
       "2020-09-26        -14081.0               -127.0   \n",
       "2019-09-28        -14119.0               -289.0   \n",
       "2018-09-29        -13712.0                828.0   \n",
       "\n",
       "            Change_To_Account_Receivables  \\\n",
       "                                            \n",
       "2021-09-25                       -10125.0   \n",
       "2020-09-26                         6917.0   \n",
       "2019-09-28                          245.0   \n",
       "2018-09-29                        -5322.0   \n",
       "\n",
       "            Other_Cashflows_From_Financing_Activities  Change_To_Netincome  \\\n",
       "                                                                             \n",
       "2021-09-25                                     -129.0               2985.0   \n",
       "2020-09-26                                     -126.0               6517.0   \n",
       "2019-09-28                                     -105.0               5076.0   \n",
       "2018-09-29                                     -105.0             -27694.0   \n",
       "\n",
       "            Capital_Expenditures  \n",
       "                                  \n",
       "2021-09-25              -11085.0  \n",
       "2020-09-26               -7309.0  \n",
       "2019-09-28              -10495.0  \n",
       "2018-09-29              -13313.0  \n",
       "\n",
       "[4 rows x 64 columns]"
      ]
     },
     "execution_count": 34,
     "metadata": {},
     "output_type": "execute_result"
    }
   ],
   "source": [
    "master"
   ]
  },
  {
   "cell_type": "code",
   "execution_count": 35,
   "metadata": {
    "id": "XVVqGuEP4euL"
   },
   "outputs": [],
   "source": [
    "Gross_Profit_Ass = financials.filter(['Total_Revenue','Cost_Of_Revenue'])"
   ]
  },
  {
   "cell_type": "code",
   "execution_count": 36,
   "metadata": {
    "id": "73VgLD-H_YA-"
   },
   "outputs": [],
   "source": [
    "Asset_Revenue = master.filter(['Total_Revenue','Total_Assets'])"
   ]
  },
  {
   "cell_type": "markdown",
   "metadata": {
    "id": "cEGQ7FSMBkSC"
   },
   "source": [
    "## ii Feature Engineering"
   ]
  },
  {
   "cell_type": "markdown",
   "metadata": {
    "id": "R1AvuFBfGyKe"
   },
   "source": [
    "### 1. Working capital management"
   ]
  },
  {
   "cell_type": "code",
   "execution_count": 37,
   "metadata": {
    "id": "LUuK0ev8BqWL"
   },
   "outputs": [],
   "source": [
    "#calculating payables days\n",
    "master['Payables_days'] = (master.Accounts_Payable / master.Cost_Of_Revenue ) * 365"
   ]
  },
  {
   "cell_type": "code",
   "execution_count": 38,
   "metadata": {
    "id": "sWll3i9iCVpJ"
   },
   "outputs": [],
   "source": [
    "#calculating recievables days\n",
    "master['Receivables_days'] = (master.Net_Receivables / master.Total_Revenue ) * 365"
   ]
  },
  {
   "cell_type": "code",
   "execution_count": 109,
   "metadata": {
    "id": "wrZP-44yE_7-"
   },
   "outputs": [],
   "source": [
    "#calculating inventory turnover\n",
    "master['Inventory_turnover'] =(master.Total_Revenue /  master.Inventory)"
   ]
  },
  {
   "cell_type": "code",
   "execution_count": 110,
   "metadata": {
    "colab": {
     "base_uri": "https://localhost:8080/"
    },
    "id": "7W3HErACFY4E",
    "outputId": "696dc05b-11c3-4513-8e96-ffb1155d6e99"
   },
   "outputs": [
    {
     "data": {
      "text/plain": [
       "\n",
       "2021-09-25    55.595289\n",
       "2020-09-26    67.597882\n",
       "2019-09-28    63.364345\n",
       "2018-09-29    67.137260\n",
       "Name: Inventory_turnover, dtype: float64"
      ]
     },
     "execution_count": 110,
     "metadata": {},
     "output_type": "execute_result"
    }
   ],
   "source": [
    "#inspecting inventory turnover\n",
    "master.Inventory_turnover"
   ]
  },
  {
   "cell_type": "code",
   "execution_count": 39,
   "metadata": {
    "colab": {
     "base_uri": "https://localhost:8080/"
    },
    "id": "_0LLflvEB9UW",
    "outputId": "8b9a095c-01f5-4b63-b855-410c81833d3d"
   },
   "outputs": [
    {
     "data": {
      "text/plain": [
       "\n",
       "2021-09-25    51.390969\n",
       "2020-09-26    49.787534\n",
       "2019-09-28    64.258765\n",
       "2018-09-29    67.332499\n",
       "Name: Receivables_days, dtype: float64"
      ]
     },
     "execution_count": 39,
     "metadata": {},
     "output_type": "execute_result"
    }
   ],
   "source": [
    "#inspecting recievables days\n",
    "master['Receivables_days']"
   ]
  },
  {
   "cell_type": "code",
   "execution_count": 40,
   "metadata": {
    "colab": {
     "base_uri": "https://localhost:8080/"
    },
    "id": "Wmr4cZHgDqS6",
    "outputId": "79b61084-b34a-4e28-988e-691b9b115b62"
   },
   "outputs": [
    {
     "data": {
      "text/plain": [
       "\n",
       "2021-09-25     93.851071\n",
       "2020-09-26     91.048190\n",
       "2019-09-28    104.314077\n",
       "2018-09-29    124.570214\n",
       "Name: Payables_days, dtype: float64"
      ]
     },
     "execution_count": 40,
     "metadata": {},
     "output_type": "execute_result"
    }
   ],
   "source": [
    "#inspecting payables days\n",
    "master['Payables_days']"
   ]
  },
  {
   "cell_type": "markdown",
   "metadata": {
    "id": "CYjlJJeZBXYh"
   },
   "source": [
    "### 2. Liquidity ratios\n"
   ]
  },
  {
   "cell_type": "code",
   "execution_count": 46,
   "metadata": {
    "id": "nQ_af8WgAfZd"
   },
   "outputs": [],
   "source": [
    "#calculating current ratio\n",
    "master['Current_ratio'] = master.Total_Current_Assets / master.Total_Current_Liabilities"
   ]
  },
  {
   "cell_type": "code",
   "execution_count": 47,
   "metadata": {
    "colab": {
     "base_uri": "https://localhost:8080/"
    },
    "id": "XZYpYYymBAIF",
    "outputId": "36215b52-57bd-46c2-adf2-61483eb9507e"
   },
   "outputs": [
    {
     "data": {
      "text/plain": [
       "\n",
       "2021-09-25    1.074553\n",
       "2020-09-26    1.363604\n",
       "2019-09-28    1.540126\n",
       "2018-09-29    1.132926\n",
       "Name: Current_ratio, dtype: float64"
      ]
     },
     "execution_count": 47,
     "metadata": {},
     "output_type": "execute_result"
    }
   ],
   "source": [
    "#inspecting current ratio\n",
    "master['Current_ratio']"
   ]
  },
  {
   "cell_type": "code",
   "execution_count": 44,
   "metadata": {
    "id": "r7QuDwXSDLd_"
   },
   "outputs": [],
   "source": [
    "#calculating quick ratio\n",
    "master['Quick_ratio'] = (master.Total_Current_Assets - master.Inventory) / master.Total_Current_Liabilities"
   ]
  },
  {
   "cell_type": "code",
   "execution_count": 45,
   "metadata": {
    "colab": {
     "base_uri": "https://localhost:8080/"
    },
    "id": "p9b18NSxDsqG",
    "outputId": "2b07c6ae-e868-476b-8170-51d0909486f5"
   },
   "outputs": [
    {
     "data": {
      "text/plain": [
       "\n",
       "2021-09-25    1.022115\n",
       "2020-09-26    1.325072\n",
       "2019-09-28    1.501286\n",
       "2018-09-29    1.098802\n",
       "Name: Quick_ratio, dtype: float64"
      ]
     },
     "execution_count": 45,
     "metadata": {},
     "output_type": "execute_result"
    }
   ],
   "source": [
    "#inspecting quick ratio\n",
    "master.Quick_ratio"
   ]
  },
  {
   "cell_type": "code",
   "execution_count": 49,
   "metadata": {
    "id": "2ep3MVLyCIs6"
   },
   "outputs": [],
   "source": [
    "#calculating cash ratio\n",
    "master['Cash_ratio'] = (master.Cash + master.Short_Term_Investments) / master.Total_Current_Liabilities"
   ]
  },
  {
   "cell_type": "code",
   "execution_count": 50,
   "metadata": {
    "colab": {
     "base_uri": "https://localhost:8080/"
    },
    "id": "Q_FYrL64Cicv",
    "outputId": "bb07c64b-7625-4f65-eef9-beee9d197b9a"
   },
   "outputs": [
    {
     "data": {
      "text/plain": [
       "\n",
       "2021-09-25    0.499191\n",
       "2020-09-26    0.862902\n",
       "2019-09-28    0.951181\n",
       "2018-09-29    0.571910\n",
       "Name: Cash_ratio, dtype: float64"
      ]
     },
     "execution_count": 50,
     "metadata": {},
     "output_type": "execute_result"
    }
   ],
   "source": [
    "#inspecting cash ratio\n",
    "master.Cash_ratio"
   ]
  },
  {
   "cell_type": "markdown",
   "metadata": {
    "id": "uZXPYY53pNEq"
   },
   "source": [
    "## iii Findings"
   ]
  },
  {
   "cell_type": "markdown",
   "metadata": {
    "id": "ZTRyYAMwU7Ac"
   },
   "source": [
    "### Correlation between working capital ratios"
   ]
  },
  {
   "cell_type": "markdown",
   "metadata": {
    "id": "3PIWMhqQOi_y"
   },
   "source": [
    "I will be answering the following question.\n",
    "\n",
    "How are the working capital ratios correlated?\n",
    "\n",
    "To do this I will be utilizing a heatmap"
   ]
  },
  {
   "cell_type": "code",
   "execution_count": 51,
   "metadata": {
    "id": "9PxUkM-tLG70"
   },
   "outputs": [],
   "source": [
    "#filtering working capital features for analysis\n",
    "working_capital_ = master.filter(['Payables_days','Receivables_days','Inventory_turnover'])\n",
    "days =  master.filter(['Payables_days','Receivables_days'])"
   ]
  },
  {
   "cell_type": "code",
   "execution_count": 52,
   "metadata": {
    "colab": {
     "base_uri": "https://localhost:8080/",
     "height": 143
    },
    "id": "1mdnP0fXNJcy",
    "outputId": "267a0e57-2169-4635-9fa6-9c23bdb895ef"
   },
   "outputs": [
    {
     "data": {
      "text/html": [
       "<div>\n",
       "<style scoped>\n",
       "    .dataframe tbody tr th:only-of-type {\n",
       "        vertical-align: middle;\n",
       "    }\n",
       "\n",
       "    .dataframe tbody tr th {\n",
       "        vertical-align: top;\n",
       "    }\n",
       "\n",
       "    .dataframe thead th {\n",
       "        text-align: right;\n",
       "    }\n",
       "</style>\n",
       "<table border=\"1\" class=\"dataframe\">\n",
       "  <thead>\n",
       "    <tr style=\"text-align: right;\">\n",
       "      <th></th>\n",
       "      <th>Payables_days</th>\n",
       "      <th>Receivables_days</th>\n",
       "    </tr>\n",
       "  </thead>\n",
       "  <tbody>\n",
       "    <tr>\n",
       "      <th>Payables_days</th>\n",
       "      <td>1.000000</td>\n",
       "      <td>0.907257</td>\n",
       "    </tr>\n",
       "    <tr>\n",
       "      <th>Receivables_days</th>\n",
       "      <td>0.907257</td>\n",
       "      <td>1.000000</td>\n",
       "    </tr>\n",
       "  </tbody>\n",
       "</table>\n",
       "</div>"
      ],
      "text/plain": [
       "                  Payables_days  Receivables_days\n",
       "Payables_days          1.000000          0.907257\n",
       "Receivables_days       0.907257          1.000000"
      ]
     },
     "execution_count": 52,
     "metadata": {},
     "output_type": "execute_result"
    }
   ],
   "source": [
    "#inspecting correlation of working capital ratios\n",
    "working_capital_.corr()"
   ]
  },
  {
   "cell_type": "code",
   "execution_count": 60,
   "metadata": {
    "colab": {
     "base_uri": "https://localhost:8080/",
     "height": 367
    },
    "id": "U4wOgBeNNinn",
    "outputId": "4207b8d9-61c4-48ec-f500-941d81b63ae0"
   },
   "outputs": [
    {
     "data": {
      "image/png": "[encoded data removed]",
      "text/plain": [
       "<Figure size 432x288 with 2 Axes>"
      ]
     },
     "metadata": {},
     "output_type": "display_data"
    }
   ],
   "source": [
    "ax = sns.heatmap(working_capital_.corr(), annot=True,cmap='Blues').set(title='Heatmap of Working capital ratios')"
   ]
  },
  {
   "cell_type": "markdown",
   "metadata": {
    "id": "gzsxxTZSOuOq"
   },
   "source": [
    "Payables days are correlated with Recievables days, as payables days increase recievables days increase as well.\n",
    "\n",
    "Inventory days do not have a strong correlation with either Payables days or Receivables days."
   ]
  },
  {
   "cell_type": "markdown",
   "metadata": {
    "id": "CB6XFacHVYtC"
   },
   "source": [
    "### Change in payables and recievables days"
   ]
  },
  {
   "cell_type": "markdown",
   "metadata": {
    "id": "hMnzYZdkQYHT"
   },
   "source": [
    "I will be answering the following question:\n",
    "\n",
    "1.   How are the working capital ratios correlated to the liquidity ratios\n",
    "\n",
    "I will use a heatmap to answer this question\n",
    "\n"
   ]
  },
  {
   "cell_type": "code",
   "execution_count": 76,
   "metadata": {
    "colab": {
     "base_uri": "https://localhost:8080/",
     "height": 398
    },
    "id": "oy8UeHUgO-OA",
    "outputId": "7ed1a630-6dd2-4c79-e57d-0e7f252d3082"
   },
   "outputs": [
    {
     "data": {
      "image/png": "[encoded data removed]",
      "text/plain": [
       "<Figure size 432x288 with 1 Axes>"
      ]
     },
     "metadata": {},
     "output_type": "display_data"
    }
   ],
   "source": [
    "#Bar plot of revenue vs cost of sales\n",
    "days.plot(kind='bar',\n",
    "                      title='Recivables days vs Payables days', \n",
    "                      xlabel='Financial Year End',\n",
    "                      ylabel='Days',\n",
    "                      cmap='Blues'\n",
    "                      );\n",
    "plt.xticks(rotation=60);\n",
    "plt.legend(['Payables days','Recievables days'], loc=8, ncol=1);"
   ]
  },
  {
   "cell_type": "markdown",
   "metadata": {
    "id": "k9dvYwnvP23K"
   },
   "source": [
    "Recievables days have gone down from about 60 days to about 50 days from 2018 to 2021.\n",
    "\n",
    "Payables days have decreased from about 120 days to about 90 days from 2018 to 2021."
   ]
  },
  {
   "cell_type": "markdown",
   "metadata": {
    "id": "KOIiuSLmVHwW"
   },
   "source": [
    "### Correlation between financial ratios"
   ]
  },
  {
   "cell_type": "markdown",
   "metadata": {
    "id": "VoFIIBb4QWxI"
   },
   "source": []
  },
  {
   "cell_type": "code",
   "execution_count": 62,
   "metadata": {
    "id": "x9OCtDBKQqd5"
   },
   "outputs": [],
   "source": [
    "#creating a dataframe with just the ratios for analysis\n",
    "ratios = master.filter(['Payables_days','Receivables_days','Inventory_turnover','Current_ratio','Quick_ratio','Cash_ratio'])"
   ]
  },
  {
   "cell_type": "code",
   "execution_count": 63,
   "metadata": {
    "colab": {
     "base_uri": "https://localhost:8080/",
     "height": 367
    },
    "id": "-COi77klRC1V",
    "outputId": "269c0466-3003-41c5-d2e8-01e6a35dbca4"
   },
   "outputs": [
    {
     "data": {
      "image/png": "[encoded data removed]",
      "text/plain": [
       "<Figure size 432x288 with 2 Axes>"
      ]
     },
     "metadata": {},
     "output_type": "display_data"
    }
   ],
   "source": [
    "ax = sns.heatmap(ratios.corr(), annot = True, cmap='Blues').set(title=\"Heatmap of correlation of financial ratios from 2018 financial year to 2021 financial year\")"
   ]
  },
  {
   "cell_type": "markdown",
   "metadata": {
    "id": "94iUOSj_RW34"
   },
   "source": [
    "From the heat map I observed:\n",
    "\n",
    "*   Payables days are negatively correlated with the liquidity ratios (current ratio, quick rate and cash ratio) \n",
    "*   Inventory turnover and recievable days have a positive correlation between the liquidity ratios.\n",
    "\n"
   ]
  },
  {
   "cell_type": "markdown",
   "metadata": {
    "id": "TH5s2Y9XVhS0"
   },
   "source": [
    "### Change in revenue vs assets"
   ]
  },
  {
   "cell_type": "markdown",
   "metadata": {},
   "source": [
    "I will be answering the following question:\n",
    "\n",
    "1.   How has total revenue and total assets changed from 2018 to 2021 financial years?\n",
    "\n",
    "I will use a heatmap to answer this question"
   ]
  },
  {
   "cell_type": "code",
   "execution_count": 64,
   "metadata": {
    "colab": {
     "base_uri": "https://localhost:8080/",
     "height": 398
    },
    "id": "xP5aR6E_K_-V",
    "outputId": "ffbb498c-32f3-4180-eb47-ff2432a64f6a"
   },
   "outputs": [
    {
     "data": {
      "text/plain": [
       "<matplotlib.legend.Legend at 0x1afd60c0a48>"
      ]
     },
     "execution_count": 64,
     "metadata": {},
     "output_type": "execute_result"
    },
    {
     "data": {
      "image/png": "[encoded data removed]",
      "text/plain": [
       "<Figure size 432x288 with 1 Axes>"
      ]
     },
     "metadata": {},
     "output_type": "display_data"
    }
   ],
   "source": [
    "#Bar plot of revenue vs cost of sales\n",
    "Asset_Revenue.plot(kind='bar',\n",
    "                      title='Total revenue vs Assets', \n",
    "                      xlabel='Financial Year End',\n",
    "                      ylabel='in $\\'000 000',\n",
    "                      cmap= 'Blues'\n",
    "                      );\n",
    "plt.xticks(rotation=60);\n",
    "plt.legend(['Total Revenue','Total Assets'], loc=8, ncol=1)"
   ]
  },
  {
   "cell_type": "markdown",
   "metadata": {
    "id": "T0sWuqxlSQjO"
   },
   "source": [
    "### Change in revenue vs Cost of sales"
   ]
  },
  {
   "cell_type": "markdown",
   "metadata": {},
   "source": [
    "I will be answering the following question:\n",
    "\n",
    "1.   How has total revenue and cost of sales changed from 2018 to 2021 financial years?\n",
    "\n",
    "I will use a heatmap to answer this question"
   ]
  },
  {
   "cell_type": "code",
   "execution_count": 65,
   "metadata": {
    "colab": {
     "base_uri": "https://localhost:8080/",
     "height": 367
    },
    "id": "cM2h3Ygj_gMB",
    "outputId": "e195aaf2-4afb-4aa2-ad89-66eb0b5fc048"
   },
   "outputs": [
    {
     "data": {
      "image/png": "[encoded data removed]",
      "text/plain": [
       "<Figure size 432x288 with 1 Axes>"
      ]
     },
     "metadata": {},
     "output_type": "display_data"
    }
   ],
   "source": [
    "#Bar plot of revenue vs cost of sales\n",
    "Gross_Profit_Ass.plot(kind='bar',cmap='Blues',\n",
    "                      title='Total revenue vs Total Cost of Sales', \n",
    "                      xlabel='Financial Year',\n",
    "                      ylabel='$\\'000 000',\n",
    "                      );\n",
    "plt.xticks(rotation=45);\n",
    "plt.legend(['Total Revenue','Cost of Sales'], loc=8, ncol=1);"
   ]
  },
  {
   "cell_type": "markdown",
   "metadata": {},
   "source": [
    "From my analysis i found that:\n",
    "\n",
    "- Revenue has increased from 2018 to 2021 from about USD250,000,000,000 to USD350,000,000,000\n",
    "- Cost of sales hads increased from 2018 to 2021 from about USD150,000,000,000 to USD200,000,000,000"
   ]
  },
  {
   "cell_type": "markdown",
   "metadata": {},
   "source": [
    "### Change in share price"
   ]
  },
  {
   "cell_type": "code",
   "execution_count": 74,
   "metadata": {
    "id": "2NkXzfylnOUC"
   },
   "outputs": [
    {
     "data": {
      "image/png": "[encoded data removed]",
      "text/plain": [
       "<Figure size 432x288 with 1 Axes>"
      ]
     },
     "metadata": {},
     "output_type": "display_data"
    }
   ],
   "source": [
    "sns.lineplot(x='Date', y='Close', data=data).set(title='Plot of AAPL stock price from 2010 to 2021',\n",
    "                                                ylabel='Share price ($)', xlabel='Year');"
   ]
  },
  {
   "cell_type": "markdown",
   "metadata": {},
   "source": [
    "## Conclusion"
   ]
  },
  {
   "cell_type": "markdown",
   "metadata": {},
   "source": [
    "**Working Capital Management**\n",
    "* Payables days are correlated with Recievables days, as payables days increase recievables days increase as well.\n",
    "* Inventory days do not have a strong correlation with either Payables days or Receivables days.\n",
    "* Recievables days have gone down from about 60 days to about 50 days from 2018 to 2021.\n",
    "* Payables days have decreased from about 120 days to about 90 days from 2018 to 2021.\n",
    "\n",
    "**Liquidity**\n",
    "\n",
    "*   Payables days are negatively correlated with the liquidity ratios (current ratio, quick rate and cash ratio) \n",
    "*   Inventory turnover and recievable days have a positive correlation between the liquidity ratios.\n",
    "\n",
    "**Performance**\n",
    "\n",
    "* Revenue has increased from 2018 to 2021 from about USD250,000,000,000 to USD350,000,000,000\n",
    "* Cost of sales hads increased from 2018 to 2021 from about USD150,000,000,000 to USD200,000,000,000\n",
    "\n",
    "**Share price**\n",
    "\n",
    "* The share price has increased from about USD20 to USD 150 from 2018 to 2021"
   ]
  },
  {
   "cell_type": "code",
   "execution_count": null,
   "metadata": {},
   "outputs": [],
   "source": []
  }
 ],
 "metadata": {
  "colab": {
   "collapsed_sections": [],
   "provenance": [],
   "toc_visible": true
  },
  "kernelspec": {
   "display_name": "Python 3 (ipykernel)",
   "language": "python",
   "name": "python3"
  },
  "language_info": {
   "codemirror_mode": {
    "name": "ipython",
    "version": 3
   },
   "file_extension": ".py",
   "mimetype": "text/x-python",
   "name": "python",
   "nbconvert_exporter": "python",
   "pygments_lexer": "ipython3",
   "version": "3.7.13"
  }
 },
 "nbformat": 4,
 "nbformat_minor": 1
}
